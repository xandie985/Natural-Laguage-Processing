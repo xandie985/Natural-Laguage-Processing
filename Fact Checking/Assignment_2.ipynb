{
  "cells": [
    {
      "cell_type": "markdown",
      "metadata": {
        "id": "3GM9DBN-Qz3k"
      },
      "source": [
        "# Assignment 2\n",
        "\n",
        "**Due to**: 23/12/2021 (dd/mm/yyyy)\n",
        "\n",
        "**Credits**: Andrea Galassi, Federico Ruggeri, Paolo Torroni\n",
        "\n",
        "**Summary**: Fact checking, Neural Languange Inference (**NLI**)"
      ]
    },
    {
      "cell_type": "markdown",
      "metadata": {
        "id": "tO_-4CZeRCO7"
      },
      "source": [
        "# Intro\n",
        "\n",
        "This assignment is centred on a particular and emerging NLP task, formally known as **fact checking** (or fake checking). As AI techniques become more and more powerful, reaching amazing results, such as image and text generation, it is more than ever necessary to build tools able to distinguish what is real from what is fake.\n",
        "\n",
        "Here we focus on a small portion of the whole fact checking problem, which aims to determine whether a given statement (fact) conveys a trustworthy information or not. \n",
        "\n",
        "More precisely, given a set of evidences and a fact to verify, we would like our model to correctly predict whether the fact is true or fake.\n",
        "\n",
        "In particular, we will see:\n",
        "\n",
        "*   Dataset preparation (analysis and pre-processing)\n",
        "*   Problem formulation: multi-input binary classification\n",
        "*   Defining an evaluation method\n",
        "*   Simple sentence embedding\n",
        "*   Neural building blocks\n",
        "*   Neural architecture extension"
      ]
    },
    {
      "cell_type": "markdown",
      "metadata": {
        "id": "hGDwg78PS_uy"
      },
      "source": [
        "# The FEVER dataset\n",
        "\n",
        "First of all, we need to choose a dataset. In this assignment we will rely on the [FEVER dataset](https://fever.ai).\n",
        "\n",
        "The dataset is about facts taken from Wikipedia documents that have to be verified. In particular, facts could face manual modifications in order to define fake information or to give different formulations of the same concept.\n",
        "\n",
        "The dataset consists of 185,445 claims manually verified against the introductory sections of Wikipedia pages and classified as ```Supported```, ```Refuted``` or ```NotEnoughInfo```. For the first two classes, systems and annotators need to also return the combination of sentences forming the necessary evidence supporting or refuting the claim."
      ]
    },
    {
      "cell_type": "markdown",
      "metadata": {
        "id": "4Oa5FpVpT7p4"
      },
      "source": [
        "## 2.1 Dataset structure\n",
        "\n",
        "Relevant data is divided into two file types. Information concerning the fact to verify, its verdict and associated supporting/opposing statements are stored in **.jsonl** format. In particular, each JSON element is a python dictionary with the following relevant fields:\n",
        "\n",
        "*    **ID**: ID associated to the fact to verify.\n",
        "\n",
        "*    **Verifiable**: whether the fact has been verified or not: ```VERIFIABLE``` or ```NOT VERIFIABLE```.\n",
        "    \n",
        "*    **Label**: the final verdict on the fact to verify: ```SUPPORTS```, ```REFUTES``` or ```NOT ENOUGH INFO```.\n",
        "    \n",
        "*    **Claim**: the fact to verify.\n",
        "    \n",
        "*    **Evidence**: a nested list of document IDs along with the sentence ID that is associated to the fact to verify. In particular, each list element is a tuple of four elements: the first two are internal annotator IDs that can be safely ignored; the third term is the document ID (called URL) and the last one is the sentence number (ID) in the pointed document to consider.\n",
        "\n",
        "**Some Examples**\n",
        "\n",
        "---\n",
        "\n",
        "**Verifiable**\n",
        "\n",
        "```\n",
        "{\"id\": 202314, \"verifiable\": \"VERIFIABLE\", \"label\": \"REFUTES\", \"claim\": \"The New Jersey Turnpike has zero shoulders.\", \"evidence\": [[[238335, 240393, \"New_Jersey_Turnpike\", 15]]]}\n",
        "```\n",
        "\n",
        "---\n",
        "\n",
        "**Not Verifiable**\n",
        "\n",
        "```\n",
        "{\"id\": 113501, \"verifiable\": \"NOT VERIFIABLE\", \"label\": \"NOT ENOUGH INFO\", \"claim\": \"Grease had bad reviews.\", \"evidence\": [[[133128, null, null, null]]]}\n",
        "```\n",
        "\n",
        "---"
      ]
    },
    {
      "cell_type": "markdown",
      "metadata": {
        "id": "nex_8UM4VWuY"
      },
      "source": [
        "## 2.2 Some simplifications and pre-processing\n",
        "\n",
        "We are only interested in verifiable facts. Thus, we can filter out all non-verifiable claims.\n",
        "\n",
        "Additionally, the current dataset format does not contain all necessary information for our classification purposes. In particular, we need to download Wikipedia documents and replace reported evidence IDs with the corresponding text.\n",
        "\n",
        "Don't worry about that! We are providing you the already pre-processed dataset so that you can concentrate on the classification pipeline (pre-processing, model definition, evaluation and training).\n",
        "\n",
        "You can download the zip file containing all set splits (train, validation and test) of the FEVER dataset by clicking on this [link](https://drive.google.com/file/d/1wArZhF9_SHW17WKNGeLmX-QTYw9Zscl1/view?usp=sharing). Alternatively, run the below code cell to automatically download it on this notebook.\n",
        "\n",
        "**Note**: each dataset split is in .csv format. Feel free to inspect the whole dataset!"
      ]
    },
    {
      "cell_type": "code",
      "execution_count": 4,
      "metadata": {
        "id": "1yn7Bhv2cBxu"
      },
      "outputs": [],
      "source": [
        "import os\n",
        "import re\n",
        "import nltk\n",
        "import string\n",
        "import random\n",
        "import gensim\n",
        "import zipfile\n",
        "import sklearn\n",
        "import requests\n",
        "import numpy as np\n",
        "import pandas as pd"
      ]
    },
    {
      "cell_type": "code",
      "execution_count": 5,
      "metadata": {
        "id": "aP-RNxihrOMB"
      },
      "outputs": [],
      "source": [
        "\n",
        "import matplotlib.pyplot as plt\n",
        "# import seaborn as sns\n",
        "\n",
        "from tqdm import tqdm\n",
        "from itertools import chain\n",
        "from functools import reduce\n",
        "from functools import partial\n",
        "import matplotlib.pyplot as plt\n",
        "from collections import namedtuple\n",
        "import gensim.downloader as gloader\n",
        "from collections import OrderedDict, Counter\n",
        "from utils_ import utility"
      ]
    },
    {
      "cell_type": "code",
      "execution_count": 6,
      "metadata": {
        "colab": {
          "base_uri": "https://localhost:8080/"
        },
        "id": "pFypyIRrcBxy",
        "outputId": "bd403eea-02b9-4c83-8bcd-f15179891cd8"
      },
      "outputs": [
        {
          "output_type": "stream",
          "name": "stdout",
          "text": [
            "Downloading FEVER data splits...\n",
            "Download completed!\n",
            "Extracting dataset...\n",
            "Extraction completed!\n"
          ]
        }
      ],
      "source": [
        "def save_response_content(response, destination):\n",
        "    CHUNK_SIZE = 32768\n",
        "\n",
        "    with open(destination, \"wb\") as f:\n",
        "        for chunk in response.iter_content(CHUNK_SIZE):\n",
        "            if chunk: # filter out keep-alive new chunks\n",
        "                f.write(chunk)\n",
        "\n",
        "def download_data(data_path):\n",
        "    toy_data_path = os.path.join(data_path, 'fever_data.zip')\n",
        "    toy_data_url_id = \"1wArZhF9_SHW17WKNGeLmX-QTYw9Zscl1\"\n",
        "    toy_url = \"https://docs.google.com/uc?export=download\"\n",
        "\n",
        "    if not os.path.exists(data_path):\n",
        "        os.makedirs(data_path)\n",
        "\n",
        "    if not os.path.exists(toy_data_path):\n",
        "        print(\"Downloading FEVER data splits...\")\n",
        "        with requests.Session() as current_session:\n",
        "            response = current_session.get(toy_url,\n",
        "                                   params={'id': toy_data_url_id},\n",
        "                                   stream=True)\n",
        "        save_response_content(response, toy_data_path)\n",
        "        print(\"Download completed!\")\n",
        "\n",
        "        print(\"Extracting dataset...\")\n",
        "        with zipfile.ZipFile(toy_data_path) as loaded_zip:\n",
        "            loaded_zip.extractall(data_path)\n",
        "        print(\"Extraction completed!\")\n",
        "\n",
        "download_data('dataset')"
      ]
    },
    {
      "cell_type": "markdown",
      "metadata": {
        "id": "Q4-2fNdkcBxz"
      },
      "source": [
        "Reading Data from the extracted .csv files\n"
      ]
    },
    {
      "cell_type": "code",
      "execution_count": 7,
      "metadata": {
        "id": "0wvCul2OcBx0"
      },
      "outputs": [],
      "source": [
        "folder = os.path.join(os.getcwd(), \"dataset\")\n",
        "# files=os.listdir(folder)\n",
        "\n",
        "df_train = pd.read_csv(folder + '/'+ 'train_pairs.csv', index_col = [0])\n",
        "df_test = pd.read_csv(folder + '/' +  'test_pairs.csv', index_col = [0])\n",
        "df_val = pd.read_csv(folder + '/' + 'val_pairs.csv', index_col = [0])\n"
      ]
    },
    {
      "cell_type": "code",
      "execution_count": 8,
      "metadata": {
        "colab": {
          "base_uri": "https://localhost:8080/"
        },
        "id": "JEcIT8fdf82j",
        "outputId": "b462c9de-d702-4827-cd5c-01f0bd81a7ae"
      },
      "outputs": [
        {
          "output_type": "execute_result",
          "data": {
            "text/plain": [
              "(121740, 4)"
            ]
          },
          "metadata": {},
          "execution_count": 8
        }
      ],
      "source": [
        "df_train.shape"
      ]
    },
    {
      "cell_type": "code",
      "execution_count": 9,
      "metadata": {
        "colab": {
          "base_uri": "https://localhost:8080/",
          "height": 206
        },
        "id": "MgkMeD6acBx1",
        "outputId": "6a525fb8-a57d-4592-bc35-381f53c4ed25"
      },
      "outputs": [
        {
          "output_type": "execute_result",
          "data": {
            "text/html": [
              "<div>\n",
              "<style scoped>\n",
              "    .dataframe tbody tr th:only-of-type {\n",
              "        vertical-align: middle;\n",
              "    }\n",
              "\n",
              "    .dataframe tbody tr th {\n",
              "        vertical-align: top;\n",
              "    }\n",
              "\n",
              "    .dataframe thead th {\n",
              "        text-align: right;\n",
              "    }\n",
              "</style>\n",
              "<table border=\"1\" class=\"dataframe\">\n",
              "  <thead>\n",
              "    <tr style=\"text-align: right;\">\n",
              "      <th></th>\n",
              "      <th>Claim</th>\n",
              "      <th>Evidence</th>\n",
              "      <th>ID</th>\n",
              "      <th>Label</th>\n",
              "    </tr>\n",
              "  </thead>\n",
              "  <tbody>\n",
              "    <tr>\n",
              "      <th>0</th>\n",
              "      <td>Chris Hemsworth appeared in A Perfect Getaway.</td>\n",
              "      <td>2\\tHemsworth has also appeared in the science ...</td>\n",
              "      <td>3</td>\n",
              "      <td>SUPPORTS</td>\n",
              "    </tr>\n",
              "    <tr>\n",
              "      <th>1</th>\n",
              "      <td>Roald Dahl is a writer.</td>\n",
              "      <td>0\\tRoald Dahl -LRB- -LSB- langpronˈroʊ.əld _ ˈ...</td>\n",
              "      <td>7</td>\n",
              "      <td>SUPPORTS</td>\n",
              "    </tr>\n",
              "    <tr>\n",
              "      <th>2</th>\n",
              "      <td>Roald Dahl is a governor.</td>\n",
              "      <td>0\\tRoald Dahl -LRB- -LSB- langpronˈroʊ.əld _ ˈ...</td>\n",
              "      <td>8</td>\n",
              "      <td>REFUTES</td>\n",
              "    </tr>\n",
              "    <tr>\n",
              "      <th>3</th>\n",
              "      <td>Ireland has relatively low-lying mountains.</td>\n",
              "      <td>10\\tThe island 's geography comprises relative...</td>\n",
              "      <td>9</td>\n",
              "      <td>SUPPORTS</td>\n",
              "    </tr>\n",
              "    <tr>\n",
              "      <th>4</th>\n",
              "      <td>Ireland does not have relatively low-lying mou...</td>\n",
              "      <td>10\\tThe island 's geography comprises relative...</td>\n",
              "      <td>10</td>\n",
              "      <td>REFUTES</td>\n",
              "    </tr>\n",
              "  </tbody>\n",
              "</table>\n",
              "</div>"
            ],
            "text/plain": [
              "                                               Claim  ...     Label\n",
              "0     Chris Hemsworth appeared in A Perfect Getaway.  ...  SUPPORTS\n",
              "1                            Roald Dahl is a writer.  ...  SUPPORTS\n",
              "2                          Roald Dahl is a governor.  ...   REFUTES\n",
              "3        Ireland has relatively low-lying mountains.  ...  SUPPORTS\n",
              "4  Ireland does not have relatively low-lying mou...  ...   REFUTES\n",
              "\n",
              "[5 rows x 4 columns]"
            ]
          },
          "metadata": {},
          "execution_count": 9
        }
      ],
      "source": [
        "df_train.head()"
      ]
    },
    {
      "cell_type": "markdown",
      "metadata": {
        "id": "GeRj7ycNdT4L"
      },
      "source": [
        "#Exploration"
      ]
    },
    {
      "cell_type": "code",
      "execution_count": 10,
      "metadata": {
        "colab": {
          "base_uri": "https://localhost:8080/",
          "height": 371
        },
        "id": "FOuHLmOCcBx2",
        "outputId": "7c4f388a-2904-43f8-e9ed-c7923955809e"
      },
      "outputs": [
        {
          "output_type": "display_data",
          "data": {
            "image/png": "[encoded data removed]",
            "text/plain": [
              "<Figure size 1200x480 with 3 Axes>"
            ]
          },
          "metadata": {}
        }
      ],
      "source": [
        "plt.style.use('seaborn')\n",
        "TRNLBL = df_train['Label'].value_counts().to_frame().T\n",
        "TSTLBL = df_test['Label'].value_counts().to_frame().T\n",
        "VALLBL = df_val['Label'].value_counts().to_frame().T\n",
        "total = pd.concat([TRNLBL, TSTLBL, VALLBL])\n",
        "fig, ax = plt.subplots(nrows=1, ncols=3, dpi = 120)\n",
        "\n",
        "labels = 'SUPPORTS', 'REFUTES'\n",
        "colors = ['#11CF06', '#F06621']\n",
        "explode = (0.05, 0.05)\n",
        "\n",
        "plt.title('Pie chart for Labels in Train Test and Validation set')\n",
        "plt.tight_layout()\n",
        "ax[0].pie(total.iloc[0], startangle=90, colors=colors, wedgeprops={'edgecolor': 'black', 'linewidth':1}, explode=explode, autopct='%1.f%%', shadow=True)\n",
        "ax[0].set_title('Train set', fontweight='bold')\n",
        "ax[1].pie(total.iloc[1],  startangle=90, colors=colors, wedgeprops={'edgecolor': 'black', 'linewidth':1}, autopct='%1.f%%', explode=explode, shadow=True)\n",
        "ax[1].set_title('Test set', fontweight='bold')\n",
        "ax[2].pie(total.iloc[2],  startangle=90, colors=colors, wedgeprops={'edgecolor': 'black', 'linewidth':1}, autopct='%1.f%%', explode=explode, shadow=True)\n",
        "ax[2].set_title('Validation set', fontweight='bold')\n",
        "fig.set_figheight(4)\n",
        "fig.set_figwidth(10)\n",
        "fig.legend(labels=labels, fontsize='medium')\n",
        "\n",
        "fig.savefig('Label distribution in dataframes')\n",
        "\n",
        "plt.show()"
      ]
    },
    {
      "cell_type": "code",
      "execution_count": 11,
      "metadata": {
        "id": "4iFJ7BX5cBx3"
      },
      "outputs": [],
      "source": [
        "TAB_CHAR = \"\\t\"\n",
        "PERIOD_CHAR = \".\"\n",
        "LEFT_PARENS = \"-LRB-\"\n",
        "RIGHT_PARENS = \"-RRB-\"\n",
        "SQUARE_BRACKETS = r\"-LSB-.*-RSB-\""
      ]
    },
    {
      "cell_type": "code",
      "execution_count": 12,
      "metadata": {
        "colab": {
          "base_uri": "https://localhost:8080/"
        },
        "id": "DqbKs0brcBx4",
        "outputId": "413a8204-29d7-4739-a2f1-c0b1966aaca9"
      },
      "outputs": [
        {
          "output_type": "stream",
          "name": "stdout",
          "text": [
            "strj   jgk;dg   sug\n",
            "strj   jgk;dg   sustrj   jgk;dg   sug\n"
          ]
        }
      ],
      "source": [
        "s = 'strj   jgk;dg   sug'\n",
        "s.find(TAB_CHAR)\n",
        "s.count(TAB_CHAR)\n",
        "print(s)\n",
        "s = s[:s.find(TAB_CHAR)]+s[s.find(TAB_CHAR)+len(TAB_CHAR):]\n",
        "print(s)"
      ]
    },
    {
      "cell_type": "code",
      "execution_count": 13,
      "metadata": {
        "id": "Yn4FEUNdeW-F"
      },
      "outputs": [],
      "source": [
        "# df"
      ]
    },
    {
      "cell_type": "code",
      "execution_count": 14,
      "metadata": {
        "colab": {
          "base_uri": "https://localhost:8080/",
          "height": 423
        },
        "id": "iZIKZMx7d7o3",
        "outputId": "bb618aab-f318-4ed5-be35-b2a206366588"
      },
      "outputs": [
        {
          "output_type": "execute_result",
          "data": {
            "text/html": [
              "<div>\n",
              "<style scoped>\n",
              "    .dataframe tbody tr th:only-of-type {\n",
              "        vertical-align: middle;\n",
              "    }\n",
              "\n",
              "    .dataframe tbody tr th {\n",
              "        vertical-align: top;\n",
              "    }\n",
              "\n",
              "    .dataframe thead th {\n",
              "        text-align: right;\n",
              "    }\n",
              "</style>\n",
              "<table border=\"1\" class=\"dataframe\">\n",
              "  <thead>\n",
              "    <tr style=\"text-align: right;\">\n",
              "      <th></th>\n",
              "      <th>Claim</th>\n",
              "      <th>Evidence</th>\n",
              "      <th>ID</th>\n",
              "      <th>Label</th>\n",
              "    </tr>\n",
              "  </thead>\n",
              "  <tbody>\n",
              "    <tr>\n",
              "      <th>0</th>\n",
              "      <td>Chris Hemsworth appeared in A Perfect Getaway.</td>\n",
              "      <td>2\\tHemsworth has also appeared in the science ...</td>\n",
              "      <td>3</td>\n",
              "      <td>SUPPORTS</td>\n",
              "    </tr>\n",
              "    <tr>\n",
              "      <th>1</th>\n",
              "      <td>Roald Dahl is a writer.</td>\n",
              "      <td>0\\tRoald Dahl -LRB- -LSB- langpronˈroʊ.əld _ ˈ...</td>\n",
              "      <td>7</td>\n",
              "      <td>SUPPORTS</td>\n",
              "    </tr>\n",
              "    <tr>\n",
              "      <th>2</th>\n",
              "      <td>Roald Dahl is a governor.</td>\n",
              "      <td>0\\tRoald Dahl -LRB- -LSB- langpronˈroʊ.əld _ ˈ...</td>\n",
              "      <td>8</td>\n",
              "      <td>REFUTES</td>\n",
              "    </tr>\n",
              "    <tr>\n",
              "      <th>3</th>\n",
              "      <td>Ireland has relatively low-lying mountains.</td>\n",
              "      <td>10\\tThe island 's geography comprises relative...</td>\n",
              "      <td>9</td>\n",
              "      <td>SUPPORTS</td>\n",
              "    </tr>\n",
              "    <tr>\n",
              "      <th>4</th>\n",
              "      <td>Ireland does not have relatively low-lying mou...</td>\n",
              "      <td>10\\tThe island 's geography comprises relative...</td>\n",
              "      <td>10</td>\n",
              "      <td>REFUTES</td>\n",
              "    </tr>\n",
              "    <tr>\n",
              "      <th>...</th>\n",
              "      <td>...</td>\n",
              "      <td>...</td>\n",
              "      <td>...</td>\n",
              "      <td>...</td>\n",
              "    </tr>\n",
              "    <tr>\n",
              "      <th>121735</th>\n",
              "      <td>April was the month Anderson Silva was born.</td>\n",
              "      <td>0\\tAnderson da Silva -LRB- -LSB- ˈɐ̃deʁsõ ˈsiw...</td>\n",
              "      <td>229440</td>\n",
              "      <td>SUPPORTS</td>\n",
              "    </tr>\n",
              "    <tr>\n",
              "      <th>121736</th>\n",
              "      <td>Anderson Silva is an American Brazilian mixed ...</td>\n",
              "      <td>0\\tAnderson da Silva -LRB- -LSB- ˈɐ̃deʁsõ ˈsiw...</td>\n",
              "      <td>229443</td>\n",
              "      <td>REFUTES</td>\n",
              "    </tr>\n",
              "    <tr>\n",
              "      <th>121737</th>\n",
              "      <td>Anderson Silva is incapable of being a Brazili...</td>\n",
              "      <td>0\\tAnderson da Silva -LRB- -LSB- ˈɐ̃deʁsõ ˈsiw...</td>\n",
              "      <td>229444</td>\n",
              "      <td>REFUTES</td>\n",
              "    </tr>\n",
              "    <tr>\n",
              "      <th>121738</th>\n",
              "      <td>Anderson Silva was born on the month of April ...</td>\n",
              "      <td>0\\tAnderson da Silva -LRB- -LSB- ˈɐ̃deʁsõ ˈsiw...</td>\n",
              "      <td>229445</td>\n",
              "      <td>SUPPORTS</td>\n",
              "    </tr>\n",
              "    <tr>\n",
              "      <th>121739</th>\n",
              "      <td>Anderson Silva was born on the day of the 15th.</td>\n",
              "      <td>0\\tAnderson da Silva -LRB- -LSB- ˈɐ̃deʁsõ ˈsiw...</td>\n",
              "      <td>229448</td>\n",
              "      <td>REFUTES</td>\n",
              "    </tr>\n",
              "  </tbody>\n",
              "</table>\n",
              "<p>121740 rows × 4 columns</p>\n",
              "</div>"
            ],
            "text/plain": [
              "                                                    Claim  ...     Label\n",
              "0          Chris Hemsworth appeared in A Perfect Getaway.  ...  SUPPORTS\n",
              "1                                 Roald Dahl is a writer.  ...  SUPPORTS\n",
              "2                               Roald Dahl is a governor.  ...   REFUTES\n",
              "3             Ireland has relatively low-lying mountains.  ...  SUPPORTS\n",
              "4       Ireland does not have relatively low-lying mou...  ...   REFUTES\n",
              "...                                                   ...  ...       ...\n",
              "121735       April was the month Anderson Silva was born.  ...  SUPPORTS\n",
              "121736  Anderson Silva is an American Brazilian mixed ...  ...   REFUTES\n",
              "121737  Anderson Silva is incapable of being a Brazili...  ...   REFUTES\n",
              "121738  Anderson Silva was born on the month of April ...  ...  SUPPORTS\n",
              "121739    Anderson Silva was born on the day of the 15th.  ...   REFUTES\n",
              "\n",
              "[121740 rows x 4 columns]"
            ]
          },
          "metadata": {},
          "execution_count": 14
        }
      ],
      "source": [
        "df_train"
      ]
    },
    {
      "cell_type": "markdown",
      "metadata": {
        "id": "JJsfRptYdfV2"
      },
      "source": [
        "#Preprocess"
      ]
    },
    {
      "cell_type": "markdown",
      "metadata": {
        "id": "9QP9zC57KeJc"
      },
      "source": [
        "# Classification dataset\n",
        "\n",
        "At this point, you should have a reay-to-go dataset! Note that the dataset format changed as well! In particular, we split the evidence set associated to each claim, in order to build `(claim, evidence)` pairs. The classification label is propagated as well.\n",
        "\n",
        "We'll motivate this decision in the next section!\n",
        "\n",
        "Just for clarity, here's an example of the pre-processed dataset:\n",
        "\n",
        "---\n",
        "\n",
        "**Claim**: \"Wentworth Miller is yet to make his screenwriting debut.\"\n",
        "\n",
        "**Evidence**: \"2\tHe made his screenwriting debut with the 2013 thriller film Stoker .\tStoker\tStoker (film)\"\n",
        "\n",
        "**Label**: Refutes\n",
        "\n",
        "---\n",
        "\n",
        "[**Note**]: The dataset requires some text cleaning as you may have noticed!\n"
      ]
    },
    {
      "cell_type": "code",
      "execution_count": 15,
      "metadata": {
        "colab": {
          "base_uri": "https://localhost:8080/",
          "height": 460
        },
        "id": "jq_wX64TcBx5",
        "outputId": "feeb8e7a-f1e7-4a2a-df81-a8af839ab57a"
      },
      "outputs": [
        {
          "output_type": "stream",
          "name": "stdout",
          "text": [
            "[nltk_data] Downloading package stopwords to /root/nltk_data...\n",
            "[nltk_data]   Unzipping corpora/stopwords.zip.\n"
          ]
        },
        {
          "output_type": "execute_result",
          "data": {
            "text/html": [
              "<div>\n",
              "<style scoped>\n",
              "    .dataframe tbody tr th:only-of-type {\n",
              "        vertical-align: middle;\n",
              "    }\n",
              "\n",
              "    .dataframe tbody tr th {\n",
              "        vertical-align: top;\n",
              "    }\n",
              "\n",
              "    .dataframe thead th {\n",
              "        text-align: right;\n",
              "    }\n",
              "</style>\n",
              "<table border=\"1\" class=\"dataframe\">\n",
              "  <thead>\n",
              "    <tr style=\"text-align: right;\">\n",
              "      <th></th>\n",
              "      <th>Claim</th>\n",
              "      <th>Evidence</th>\n",
              "      <th>ID</th>\n",
              "      <th>Label</th>\n",
              "    </tr>\n",
              "  </thead>\n",
              "  <tbody>\n",
              "    <tr>\n",
              "      <th>0</th>\n",
              "      <td>chris hemsworth appeared perfect getaway.</td>\n",
              "      <td>2 hemsworth also appeared science fiction acti...</td>\n",
              "      <td>3</td>\n",
              "      <td>SUPPORTS</td>\n",
              "    </tr>\n",
              "    <tr>\n",
              "      <th>1</th>\n",
              "      <td>roald dahl writer.</td>\n",
              "      <td>0 roald dahl -lrb- -lsb- langpronˈroʊ.əld ˈdɑː...</td>\n",
              "      <td>7</td>\n",
              "      <td>SUPPORTS</td>\n",
              "    </tr>\n",
              "    <tr>\n",
              "      <th>2</th>\n",
              "      <td>roald dahl governor.</td>\n",
              "      <td>0 roald dahl -lrb- -lsb- langpronˈroʊ.əld ˈdɑː...</td>\n",
              "      <td>8</td>\n",
              "      <td>REFUTES</td>\n",
              "    </tr>\n",
              "    <tr>\n",
              "      <th>3</th>\n",
              "      <td>ireland relatively low-lying mountains.</td>\n",
              "      <td>10 island 's geography comprises relatively lo...</td>\n",
              "      <td>9</td>\n",
              "      <td>SUPPORTS</td>\n",
              "    </tr>\n",
              "    <tr>\n",
              "      <th>4</th>\n",
              "      <td>ireland relatively low-lying mountains.</td>\n",
              "      <td>10 island 's geography comprises relatively lo...</td>\n",
              "      <td>10</td>\n",
              "      <td>REFUTES</td>\n",
              "    </tr>\n",
              "    <tr>\n",
              "      <th>...</th>\n",
              "      <td>...</td>\n",
              "      <td>...</td>\n",
              "      <td>...</td>\n",
              "      <td>...</td>\n",
              "    </tr>\n",
              "    <tr>\n",
              "      <th>121735</th>\n",
              "      <td>april month anderson silva born.</td>\n",
              "      <td>0 anderson da silva -lrb- -lsb- ˈɐ̃deʁsõ ˈsiwv...</td>\n",
              "      <td>229440</td>\n",
              "      <td>SUPPORTS</td>\n",
              "    </tr>\n",
              "    <tr>\n",
              "      <th>121736</th>\n",
              "      <td>anderson silva american azilian mixed martial ...</td>\n",
              "      <td>0 anderson da silva -lrb- -lsb- ˈɐ̃deʁsõ ˈsiwv...</td>\n",
              "      <td>229443</td>\n",
              "      <td>REFUTES</td>\n",
              "    </tr>\n",
              "    <tr>\n",
              "      <th>121737</th>\n",
              "      <td>anderson silva incapable azilian mixed martial...</td>\n",
              "      <td>0 anderson da silva -lrb- -lsb- ˈɐ̃deʁsõ ˈsiwv...</td>\n",
              "      <td>229444</td>\n",
              "      <td>REFUTES</td>\n",
              "    </tr>\n",
              "    <tr>\n",
              "      <th>121738</th>\n",
              "      <td>anderson silva born month april 14th 1975.</td>\n",
              "      <td>0 anderson da silva -lrb- -lsb- ˈɐ̃deʁsõ ˈsiwv...</td>\n",
              "      <td>229445</td>\n",
              "      <td>SUPPORTS</td>\n",
              "    </tr>\n",
              "    <tr>\n",
              "      <th>121739</th>\n",
              "      <td>anderson silva born day 15th.</td>\n",
              "      <td>0 anderson da silva -lrb- -lsb- ˈɐ̃deʁsõ ˈsiwv...</td>\n",
              "      <td>229448</td>\n",
              "      <td>REFUTES</td>\n",
              "    </tr>\n",
              "  </tbody>\n",
              "</table>\n",
              "<p>121740 rows × 4 columns</p>\n",
              "</div>"
            ],
            "text/plain": [
              "                                                    Claim  ...     Label\n",
              "0               chris hemsworth appeared perfect getaway.  ...  SUPPORTS\n",
              "1                                      roald dahl writer.  ...  SUPPORTS\n",
              "2                                    roald dahl governor.  ...   REFUTES\n",
              "3                 ireland relatively low-lying mountains.  ...  SUPPORTS\n",
              "4                 ireland relatively low-lying mountains.  ...   REFUTES\n",
              "...                                                   ...  ...       ...\n",
              "121735                   april month anderson silva born.  ...  SUPPORTS\n",
              "121736  anderson silva american azilian mixed martial ...  ...   REFUTES\n",
              "121737  anderson silva incapable azilian mixed martial...  ...   REFUTES\n",
              "121738         anderson silva born month april 14th 1975.  ...  SUPPORTS\n",
              "121739                      anderson silva born day 15th.  ...   REFUTES\n",
              "\n",
              "[121740 rows x 4 columns]"
            ]
          },
          "metadata": {},
          "execution_count": 15
        }
      ],
      "source": [
        "import re\n",
        "from functools import reduce\n",
        "import nltk\n",
        "from nltk.corpus import stopwords\n",
        "\n",
        "# Config\n",
        "\n",
        "REPLACE_BY_SPACE_RE = re.compile('[/(){}\\[\\]\\|@,;]')\n",
        "REPLACE_BY_ = re.compile('_')\n",
        "GOOD_SYMBOLS_RE = re.compile(\"^[a-zA-Z0-9_-]*$\")\n",
        "\n",
        "try:\n",
        "    STOPWORDS = set(stopwords.words('english'))\n",
        "except LookupError:\n",
        "    nltk.download('stopwords')\n",
        "    STOPWORDS = set(stopwords.words('english'))\n",
        "\n",
        "def lower(text: str) -> str:\n",
        "    \"\"\"\n",
        "    Transforms given text to lower case.\n",
        "    Example:\n",
        "    Input: 'I really like New York city'\n",
        "    Output: 'i really like new your city'\n",
        "    \"\"\"\n",
        "\n",
        "    return text.lower()\n",
        "\n",
        "def replace_special_characters(text: str) -> str:\n",
        "    \"\"\"\n",
        "    Replaces special characters, such as paranthesis,\n",
        "    with spacing character\n",
        "    \"\"\"\n",
        "\n",
        "    return REPLACE_BY_SPACE_RE.sub(' ', text)\n",
        "\n",
        "\n",
        "def replace_by_underscore(text: str) -> str:\n",
        "    \"\"\"\n",
        "    Replaces special characters, such as paranthesis,\n",
        "    with spacing character\n",
        "    \"\"\"\n",
        "\n",
        "    return REPLACE_BY_.sub(' ', text)\n",
        "\n",
        "def replace_br(text: str) -> str:\n",
        "    \"\"\"\n",
        "    Replaces br characters\n",
        "    \"\"\"\n",
        "\n",
        "    return text.replace('br', '')\n",
        "\n",
        "def filter_out_uncommon_symbols(text: str) -> str:\n",
        "    \"\"\"\n",
        "    Removes any special character that is not in the\n",
        "    good symbols list (check regular expression)\n",
        "    \"\"\"\n",
        "\n",
        "    return GOOD_SYMBOLS_RE.sub('', text)\n",
        "\n",
        "def remove_stopwords(text: str) -> str:\n",
        "    return ' '.join([x for x in text.split() if x and x not in STOPWORDS])\n",
        "\n",
        "\n",
        "def strip_text(text: str) -> str:\n",
        "    \"\"\"\n",
        "    Removes any left or right spacing (including carriage return) from text.\n",
        "    Example:\n",
        "    Input: '  This assignment is cool\\n'\n",
        "    Output: 'This assignment is cool'\n",
        "    \"\"\"\n",
        "\n",
        "    return text.strip()\n",
        "\n",
        "PREPROCESSING_PIPELINE = [\n",
        "                          lower,\n",
        "                          replace_special_characters,\n",
        "                          replace_br,\n",
        "                          filter_out_uncommon_symbols,\n",
        "                          replace_by_underscore,\n",
        "                          remove_stopwords,\n",
        "                          strip_text\n",
        "                          ]\n",
        "\n",
        "# Anchor method\n",
        "\n",
        "def text_prepare(text: str,filter_methods = None) -> str:\n",
        "    \"\"\"\n",
        "    Applies a list of pre-processing functions in sequence (reduce).\n",
        "    Note that the order is important here!\n",
        "    \"\"\"\n",
        "\n",
        "    filter_methods = filter_methods if filter_methods is not None else PREPROCESSING_PIPELINE\n",
        "\n",
        "    return reduce(lambda txt, f: f(txt), filter_methods, text)\n",
        "\n",
        "\n",
        "L=['Claim','Evidence']\n",
        "\n",
        "for i in L:\n",
        "  df_train[i] = df_train[i].apply(lambda txt: text_prepare(txt))\n",
        "  df_test[i] = df_test[i].apply(lambda txt: text_prepare(txt))\n",
        "  df_val[i] = df_val[i].apply(lambda txt: text_prepare(txt))\n",
        "\n",
        "df_train"
      ]
    },
    {
      "cell_type": "code",
      "execution_count": 16,
      "metadata": {
        "colab": {
          "base_uri": "https://localhost:8080/",
          "height": 90
        },
        "id": "uMOWCqEfhFey",
        "outputId": "7c77e4be-372a-4253-be15-5a19a34bbb2e"
      },
      "outputs": [
        {
          "output_type": "execute_result",
          "data": {
            "application/vnd.google.colaboratory.intrinsic+json": {
              "type": "string"
            },
            "text/plain": [
              "'2 hemsworth also appeared science fiction action film star trek -lrb- 2009 -rrb- thriller adventure perfect getaway -lrb- 2009 -rrb- horror comedy cabin woods -lrb- 2012 -rrb- dark-fantasy action film snow white huntsman -lrb- 2012 -rrb- war film red dawn -lrb- 2012 -rrb- biographical sports drama film rush -lrb- 2013 -rrb- . star trek star trek film perfect getaway perfect getaway cabin woods cabin woods snow white huntsman snow white huntsman red dawn red dawn 2012 film rush rush 2013 film'"
            ]
          },
          "metadata": {},
          "execution_count": 16
        }
      ],
      "source": [
        "df_train.Evidence[0]"
      ]
    },
    {
      "cell_type": "code",
      "execution_count": 17,
      "metadata": {
        "colab": {
          "base_uri": "https://localhost:8080/"
        },
        "id": "KqLm79n1CkZP",
        "outputId": "c7aa0a3e-0afa-49a4-a56a-5d424a9470ac"
      },
      "outputs": [
        {
          "output_type": "stream",
          "name": "stderr",
          "text": [
            "/usr/local/lib/python3.7/dist-packages/pandas/core/indexing.py:670: SettingWithCopyWarning: \n",
            "A value is trying to be set on a copy of a slice from a DataFrame\n",
            "\n",
            "See the caveats in the documentation: https://pandas.pydata.org/pandas-docs/stable/user_guide/indexing.html#returning-a-view-versus-a-copy\n",
            "  iloc._setitem_with_indexer(indexer, value)\n"
          ]
        }
      ],
      "source": [
        "df_train['Label'].loc[(df_train['Label'] == 'SUPPORTS')] = 1\n",
        "df_train['Label'].loc[(df_train['Label'] == 'REFUTES')] = 0 \n",
        "\n",
        "df_val['Label'].loc[(df_val['Label'] == 'SUPPORTS')] = 1\n",
        "df_val['Label'].loc[(df_val['Label'] == 'REFUTES')] = 0 \n",
        "\n",
        "\n",
        "df_test['Label'].loc[(df_test['Label'] == 'SUPPORTS')] = 1\n",
        "df_test['Label'].loc[(df_test['Label'] == 'REFUTES')] = 0 "
      ]
    },
    {
      "cell_type": "code",
      "execution_count": 18,
      "metadata": {
        "colab": {
          "base_uri": "https://localhost:8080/",
          "height": 423
        },
        "id": "SAwwqLWyDyTA",
        "outputId": "52574e41-40c9-4cdb-df0d-58fe36f4e2f9"
      },
      "outputs": [
        {
          "output_type": "execute_result",
          "data": {
            "text/html": [
              "<div>\n",
              "<style scoped>\n",
              "    .dataframe tbody tr th:only-of-type {\n",
              "        vertical-align: middle;\n",
              "    }\n",
              "\n",
              "    .dataframe tbody tr th {\n",
              "        vertical-align: top;\n",
              "    }\n",
              "\n",
              "    .dataframe thead th {\n",
              "        text-align: right;\n",
              "    }\n",
              "</style>\n",
              "<table border=\"1\" class=\"dataframe\">\n",
              "  <thead>\n",
              "    <tr style=\"text-align: right;\">\n",
              "      <th></th>\n",
              "      <th>Claim</th>\n",
              "      <th>Evidence</th>\n",
              "      <th>ID</th>\n",
              "      <th>Label</th>\n",
              "    </tr>\n",
              "  </thead>\n",
              "  <tbody>\n",
              "    <tr>\n",
              "      <th>0</th>\n",
              "      <td>chris hemsworth appeared perfect getaway.</td>\n",
              "      <td>2 hemsworth also appeared science fiction acti...</td>\n",
              "      <td>3</td>\n",
              "      <td>1</td>\n",
              "    </tr>\n",
              "    <tr>\n",
              "      <th>1</th>\n",
              "      <td>roald dahl writer.</td>\n",
              "      <td>0 roald dahl -lrb- -lsb- langpronˈroʊ.əld ˈdɑː...</td>\n",
              "      <td>7</td>\n",
              "      <td>1</td>\n",
              "    </tr>\n",
              "    <tr>\n",
              "      <th>2</th>\n",
              "      <td>roald dahl governor.</td>\n",
              "      <td>0 roald dahl -lrb- -lsb- langpronˈroʊ.əld ˈdɑː...</td>\n",
              "      <td>8</td>\n",
              "      <td>0</td>\n",
              "    </tr>\n",
              "    <tr>\n",
              "      <th>3</th>\n",
              "      <td>ireland relatively low-lying mountains.</td>\n",
              "      <td>10 island 's geography comprises relatively lo...</td>\n",
              "      <td>9</td>\n",
              "      <td>1</td>\n",
              "    </tr>\n",
              "    <tr>\n",
              "      <th>4</th>\n",
              "      <td>ireland relatively low-lying mountains.</td>\n",
              "      <td>10 island 's geography comprises relatively lo...</td>\n",
              "      <td>10</td>\n",
              "      <td>0</td>\n",
              "    </tr>\n",
              "    <tr>\n",
              "      <th>...</th>\n",
              "      <td>...</td>\n",
              "      <td>...</td>\n",
              "      <td>...</td>\n",
              "      <td>...</td>\n",
              "    </tr>\n",
              "    <tr>\n",
              "      <th>121735</th>\n",
              "      <td>april month anderson silva born.</td>\n",
              "      <td>0 anderson da silva -lrb- -lsb- ˈɐ̃deʁsõ ˈsiwv...</td>\n",
              "      <td>229440</td>\n",
              "      <td>1</td>\n",
              "    </tr>\n",
              "    <tr>\n",
              "      <th>121736</th>\n",
              "      <td>anderson silva american azilian mixed martial ...</td>\n",
              "      <td>0 anderson da silva -lrb- -lsb- ˈɐ̃deʁsõ ˈsiwv...</td>\n",
              "      <td>229443</td>\n",
              "      <td>0</td>\n",
              "    </tr>\n",
              "    <tr>\n",
              "      <th>121737</th>\n",
              "      <td>anderson silva incapable azilian mixed martial...</td>\n",
              "      <td>0 anderson da silva -lrb- -lsb- ˈɐ̃deʁsõ ˈsiwv...</td>\n",
              "      <td>229444</td>\n",
              "      <td>0</td>\n",
              "    </tr>\n",
              "    <tr>\n",
              "      <th>121738</th>\n",
              "      <td>anderson silva born month april 14th 1975.</td>\n",
              "      <td>0 anderson da silva -lrb- -lsb- ˈɐ̃deʁsõ ˈsiwv...</td>\n",
              "      <td>229445</td>\n",
              "      <td>1</td>\n",
              "    </tr>\n",
              "    <tr>\n",
              "      <th>121739</th>\n",
              "      <td>anderson silva born day 15th.</td>\n",
              "      <td>0 anderson da silva -lrb- -lsb- ˈɐ̃deʁsõ ˈsiwv...</td>\n",
              "      <td>229448</td>\n",
              "      <td>0</td>\n",
              "    </tr>\n",
              "  </tbody>\n",
              "</table>\n",
              "<p>121740 rows × 4 columns</p>\n",
              "</div>"
            ],
            "text/plain": [
              "                                                    Claim  ... Label\n",
              "0               chris hemsworth appeared perfect getaway.  ...     1\n",
              "1                                      roald dahl writer.  ...     1\n",
              "2                                    roald dahl governor.  ...     0\n",
              "3                 ireland relatively low-lying mountains.  ...     1\n",
              "4                 ireland relatively low-lying mountains.  ...     0\n",
              "...                                                   ...  ...   ...\n",
              "121735                   april month anderson silva born.  ...     1\n",
              "121736  anderson silva american azilian mixed martial ...  ...     0\n",
              "121737  anderson silva incapable azilian mixed martial...  ...     0\n",
              "121738         anderson silva born month april 14th 1975.  ...     1\n",
              "121739                      anderson silva born day 15th.  ...     0\n",
              "\n",
              "[121740 rows x 4 columns]"
            ]
          },
          "metadata": {},
          "execution_count": 18
        }
      ],
      "source": [
        "df_train"
      ]
    },
    {
      "cell_type": "markdown",
      "metadata": {
        "id": "s4cyihTZK5iI"
      },
      "source": [
        "#Embedding and vocabularies"
      ]
    },
    {
      "cell_type": "code",
      "execution_count": 19,
      "metadata": {
        "colab": {
          "base_uri": "https://localhost:8080/"
        },
        "id": "9dQWBVXAqVSV",
        "outputId": "33ad4d92-b48e-4438-b131-fb4f841ef6d9"
      },
      "outputs": [
        {
          "output_type": "stream",
          "name": "stdout",
          "text": [
            "762\n",
            "71\n"
          ]
        }
      ],
      "source": [
        "PAD, UNK, = '<pad>', '<unk>'\n",
        "#<pad> all sequences should have same length. If the sequence is short then it will be padded\n",
        "#<unk> means unknown token, used to replace rare word that didn't fir into the vocabulary\n",
        "t2i_train, i2t = utility.build_vocabulary(df_train['Evidence'], [PAD, UNK])\n",
        "w2i_train, _ = utility.build_vocabulary(df_train['Claim'])\n",
        "print(len(t2i_train))\n",
        "print(len(w2i_train))"
      ]
    },
    {
      "cell_type": "code",
      "execution_count": 20,
      "metadata": {
        "colab": {
          "base_uri": "https://localhost:8080/"
        },
        "id": "RuojtlTG9clt",
        "outputId": "7654923e-ec40-4322-f779-fa1854c6368f"
      },
      "outputs": [
        {
          "output_type": "stream",
          "name": "stdout",
          "text": [
            "295\n",
            "56\n"
          ]
        }
      ],
      "source": [
        "PAD, UNK, = '<pad>', '<unk>'\n",
        "#<pad> all sequences should have same length. If the sequence is short then it will be padded\n",
        "#<unk> means unknown token, used to replace rare word that didn't fir into the vocabulary\n",
        "t2i_val, i2t = utility.build_vocabulary(df_val['Evidence'], [PAD, UNK])\n",
        "w2i_val, _ = utility.build_vocabulary(df_val['Claim'])\n",
        "print(len(t2i_val))\n",
        "print(len(w2i_val))"
      ]
    },
    {
      "cell_type": "code",
      "execution_count": 21,
      "metadata": {
        "id": "B6_H_SII9jWu",
        "colab": {
          "base_uri": "https://localhost:8080/"
        },
        "outputId": "510d4a1a-36dd-4236-e069-86f832d0d38b"
      },
      "outputs": [
        {
          "output_type": "stream",
          "name": "stdout",
          "text": [
            "295\n",
            "56\n"
          ]
        }
      ],
      "source": [
        "PAD, UNK, = '<pad>', '<unk>'\n",
        "#<pad> all sequences should have same length. If the sequence is short then it will be padded\n",
        "#<unk> means unknown token, used to replace rare word that didn't fir into the vocabulary\n",
        "t2i_test, i2t = utility.build_vocabulary(df_test['Evidence'], [PAD, UNK])\n",
        "w2i_test, _ = utility.build_vocabulary(df_test['Claim'])\n",
        "print(len(t2i_val))\n",
        "print(len(w2i_val))"
      ]
    },
    {
      "cell_type": "code",
      "execution_count": 22,
      "metadata": {
        "id": "DolgzvlzUhJe"
      },
      "outputs": [],
      "source": [
        "def categorical_text(df,w2i):\n",
        "    df['Claim'] = df['Claim'].map(lambda s: [w2i.get(w, w2i[UNK]) for w in s])\n",
        "    df['Evidence'] = df['Evidence'].map(lambda s: [w2i.get(w, w2i[UNK]) for w in s])"
      ]
    },
    {
      "cell_type": "code",
      "execution_count": 23,
      "metadata": {
        "id": "PZ1s6pTxUh5Q"
      },
      "outputs": [],
      "source": [
        "def embedd_OOV_terms(embedding_model, oov_terms, co_occurrence_matrix, w2i, i2w, rnd_OOV = False):\n",
        "    \"\"\"Embedd OOV words by weighted average of co-occurring neighbors.\"\"\"\n",
        "    for i, word in enumerate(oov_terms):\n",
        "        if rnd_OOV:\n",
        "            oov_vec = np.random.rand(embedding_dimension)\n",
        "        else:\n",
        "            oov_vec = np.zeros(embedding_dimension)\n",
        "            for count_row in co_occurrence_matrix[w2i[word]]:\n",
        "                weights_acc = 0\n",
        "                for count, index in zip(count_row.data, count_row.indices):\n",
        "                    if i2w[index] not in oov_terms:\n",
        "                        weights_acc += count\n",
        "                        oov_vec += count*embedding_model[i2w[index]]\n",
        "\n",
        "            oov_vec/=weights_acc\n",
        "        embedding_model.add(word, oov_vec)\n",
        "\n",
        "    return embedding_model"
      ]
    },
    {
      "cell_type": "code",
      "execution_count": 24,
      "metadata": {
        "colab": {
          "base_uri": "https://localhost:8080/"
        },
        "id": "TwGop8s9UyMj",
        "outputId": "8a7c445f-e8d3-46e9-9e59-8c06e36dc39b"
      },
      "outputs": [
        {
          "output_type": "stream",
          "name": "stdout",
          "text": [
            "[==================================================] 100.0% 128.1/128.1MB downloaded\n"
          ]
        }
      ],
      "source": [
        "embedding_dimension=100\n",
        "\n",
        "embedding_model = utility.load_embedding_model('glove',embedding_dimension)\n",
        "\n",
        "# allows \"PAD\" to have index zero, crucial for consistency\n",
        "PAD, UNK, = '<pad>', '<unk>'\n",
        "pad_unk_vec = np.zeros((2, embedding_dimension)) # pad\n",
        "pad_unk_vec[1] = np.random.rand(embedding_dimension) # unk"
      ]
    },
    {
      "cell_type": "markdown",
      "metadata": {
        "id": "4LnrY0xxU231"
      },
      "source": [
        "#Build traning vocabulary"
      ]
    },
    {
      "cell_type": "code",
      "execution_count": 25,
      "metadata": {
        "id": "dpbA8uz3aPoQ"
      },
      "outputs": [],
      "source": [
        "#Compute embeddings for terms out of vocabulary V1 (OOV1) of the training split \n",
        "voc1 = {e:i for i,e in enumerate(chain([PAD, UNK], embedding_model.vocab.keys()))}"
      ]
    },
    {
      "cell_type": "code",
      "execution_count": 26,
      "metadata": {
        "colab": {
          "base_uri": "https://localhost:8080/"
        },
        "id": "q3xYMAXQU31E",
        "outputId": "df0cb772-0783-416e-a8af-b56574dbcbfa"
      },
      "outputs": [
        {
          "output_type": "stream",
          "name": "stdout",
          "text": [
            "[Debug] Index -> Word vocabulary size: 760\n",
            "[Debug] Word -> Index vocabulary size: 760\n",
            "[Vocabulary Evaluation] Content checking...\n"
          ]
        },
        {
          "output_type": "stream",
          "name": "stderr",
          "text": [
            "100%|██████████| 760/760 [00:00<00:00, 995525.00it/s]"
          ]
        },
        {
          "output_type": "stream",
          "name": "stdout",
          "text": [
            "\n",
            "\n",
            "Found 586 oov words: 7.7e+01%\n"
          ]
        },
        {
          "output_type": "stream",
          "name": "stderr",
          "text": [
            "\n"
          ]
        }
      ],
      "source": [
        "#Now let's build the training vocabulary\n",
        "#Add embeddings to the vocabulary, so to obtain vocabulary V2=V1+OOV1\n",
        "\n",
        "w2i_train, i2w_train = utility.build_vocabulary(df_train['Claim'].append(df_train['Evidence']))\n",
        "print('[Debug] Index -> Word vocabulary size: {}'.format(len(w2i_train)))\n",
        "print('[Debug] Word -> Index vocabulary size: {}'.format(len(i2w_train)))\n",
        "\n",
        "# Check content\n",
        "print(\"[Vocabulary Evaluation] Content checking...\")\n",
        "for i in tqdm(range(0, len(i2w_train))):\n",
        "  assert i2w_train[i] in w2i_train\n",
        "  assert w2i_train[i2w_train[i]] == i\n",
        "\n",
        "voc2= utility.combine_vocabularies(voc1, w2i_train)\n",
        "oov1=utility.check_OOV_terms(voc1, w2i_train)\n",
        "print('\\n')\n",
        "print(f\"Found {len(oov1)} oov words: {utility.getPercent(len(oov1), len(w2i_train)):.2}%\")\n",
        "categorical_text(df_train, voc2)"
      ]
    },
    {
      "cell_type": "code",
      "execution_count": 27,
      "metadata": {
        "id": "i4_86erGU7dm"
      },
      "outputs": [],
      "source": [
        "inv2 = {v:k for k,v in voc2.items()}\n",
        "embeding_model = embedd_OOV_terms(embedding_model, oov1, None, voc2, inv2, rnd_OOV=True)\n",
        "embedding_matrix_v2 = np.concatenate((pad_unk_vec, embedding_model.vectors.copy()))"
      ]
    },
    {
      "cell_type": "markdown",
      "metadata": {
        "id": "t1GfTxVp49An"
      },
      "source": [
        "#Build validation vocabulary"
      ]
    },
    {
      "cell_type": "code",
      "execution_count": 28,
      "metadata": {
        "colab": {
          "base_uri": "https://localhost:8080/"
        },
        "id": "puGNhfa1U81S",
        "outputId": "9e300139-f2c2-4e0d-c839-799b7e713911"
      },
      "outputs": [
        {
          "output_type": "stream",
          "name": "stdout",
          "text": [
            "Found 41 oov words: 1.4e+01%\n",
            "\n"
          ]
        }
      ],
      "source": [
        "w2i_val, _ = utility.build_vocabulary(df_val['Claim'].append(df_val['Evidence']))\n",
        "voc3= utility.combine_vocabularies(voc2, w2i_val)\n",
        "oov2=utility.check_OOV_terms(voc2, w2i_val)\n",
        "print(f\"Found {len(oov2)} oov words: {utility.getPercent(len(oov2), len(w2i_val)):.2}%\\n\")\n",
        "categorical_text(df_val, voc3)\n",
        "inv3 = {v:k for k,v in voc3.items()}"
      ]
    },
    {
      "cell_type": "code",
      "execution_count": 29,
      "metadata": {
        "id": "xtaYaCYNDyFa"
      },
      "outputs": [],
      "source": [
        "embeding_model = embedd_OOV_terms(embedding_model, oov2, None, voc3, inv3, rnd_OOV=True)\n",
        "embedding_matrix_v3 = np.concatenate((pad_unk_vec, embedding_model.vectors.copy()))"
      ]
    },
    {
      "cell_type": "markdown",
      "metadata": {
        "id": "Tag0c77GU-82"
      },
      "source": [
        "#Build test vocabulary"
      ]
    },
    {
      "cell_type": "code",
      "execution_count": 30,
      "metadata": {
        "colab": {
          "base_uri": "https://localhost:8080/"
        },
        "id": "5bHGoSPhU_6G",
        "outputId": "eabef0f4-65ae-4434-9cb8-8eace256abe6"
      },
      "outputs": [
        {
          "output_type": "stream",
          "name": "stdout",
          "text": [
            "Found 34 oov words: 1.1e+01%\n"
          ]
        }
      ],
      "source": [
        "w2i_test, _ = utility.build_vocabulary(df_test[\"Claim\"].append(df_test[\"Evidence\"]))\n",
        "voc4= utility.combine_vocabularies(voc3, w2i_test)\n",
        "oov3=utility.check_OOV_terms(voc3, w2i_test)\n",
        "print(f\"Found {len(oov3)} oov words: {utility.getPercent(len(oov3),len(w2i_test)):.2}%\")\n",
        "categorical_text(df_test, voc4)\n",
        "inv4 = {v:k for k,v in voc4.items()}\n",
        "# co_occ3 = co_occurrence_count(df_test, inv4, sparse=True)"
      ]
    },
    {
      "cell_type": "code",
      "execution_count": 33,
      "metadata": {
        "id": "dMS-toaOVQhH"
      },
      "outputs": [],
      "source": [
        "embeding_model = embedd_OOV_terms(embedding_model, oov3, None, voc4, inv4, rnd_OOV=True)\n",
        "embedding_matrix_v4 = np.concatenate((pad_unk_vec, embedding_model.vectors.copy()))"
      ]
    },
    {
      "cell_type": "code",
      "source": [
        "# helper class to iterate the data\n",
        "import math\n",
        "\n",
        "class DataIterator:\n",
        "    def __init__(self, df, sequence_len, batch_size):\n",
        "        self.X = df[['Claim', 'Evidence']]\n",
        "        self.Y = df['Label'].to_numpy()\n",
        "        assert self.X.shape[0] == self.Y.shape[0]\n",
        "        self.num_sentence = self.X.shape[0]\n",
        "        self.batch_size = batch_size\n",
        "        # pad sentences\n",
        "        self.data_list = []\n",
        "        for i in range(self.num_sentence):\n",
        "            c = np.zeros((sequence_len))\n",
        "            e = np.zeros((sequence_len))\n",
        "            label = self.Y[i]\n",
        "            l0 = min(len(self.X.iloc[i][0]), sequence_len)\n",
        "            l1 = min(len(self.X.iloc[i][1]), sequence_len)\n",
        "            c[:l0] = self.X.iloc[i][0][:l0]\n",
        "            e[:l1] = self.X.iloc[i][1][:l1]\n",
        "            self.data_list.append((c, e, label))\n",
        "        self.shuffle()\n",
        "\n",
        "    def shuffle(self):\n",
        "        self.current = 0\n",
        "        random.shuffle(self.data_list)\n",
        "        # batch the data\n",
        "        num_batches = math.ceil(self.num_sentence/self.batch_size)\n",
        "        self.batches_c = []\n",
        "        self.batches_e = []\n",
        "        self.batches_y = []\n",
        "        for i in range(num_batches):\n",
        "            batchc = []\n",
        "            batche = []\n",
        "            batchy = []\n",
        "            for j in range(self.batch_size):\n",
        "                if i*self.batch_size+j >= self.num_sentence:\n",
        "                    break\n",
        "                batchc.append(self.data_list[i*self.batch_size+j][0])\n",
        "                batche.append(self.data_list[i*self.batch_size+j][1])\n",
        "                batchy.append(self.data_list[i*self.batch_size+j][2])\n",
        "            self.batches_c.append(np.array(batchc))\n",
        "            self.batches_e.append(np.array(batche))\n",
        "            self.batches_y.append(np.array(batchy))\n",
        "\n",
        "    def __iter__(self):\n",
        "        return self\n",
        "\n",
        "    def __next__(self):\n",
        "        if self.current >= len(self.batches_c):\n",
        "            raise StopIteration\n",
        "        claim = self.batches_c[self.current]\n",
        "        evidence = self.batches_e[self.current]\n",
        "        y = self.batches_y[self.current]\n",
        "        claim = tf.cast(claim, tf.float32)\n",
        "        evidence = tf.cast(evidence, tf.float32)\n",
        "        y = tf.cast(y, tf.float32)\n",
        "        self.current += 1\n",
        "        return claim, evidence, y\n",
        " \n",
        "# hyperparameters\n",
        "\n",
        "sequence_len = 216 # marks the longest sentence token count\n",
        "batch_size =   128 #@param {type:\"integer\"}\n",
        "\n",
        "print(\"Building Data Iterators\")\n",
        "train_data = DataIterator(df_train, sequence_len, batch_size)\n",
        "val_data = DataIterator(df_val, sequence_len, batch_size)\n",
        "print(\"Built\")"
      ],
      "metadata": {
        "colab": {
          "base_uri": "https://localhost:8080/"
        },
        "id": "3eKffR6K5uz8",
        "outputId": "c97786ad-f807-4b86-ae2b-2b21797b4bd9"
      },
      "execution_count": 37,
      "outputs": [
        {
          "output_type": "stream",
          "name": "stdout",
          "text": [
            "Building Data Iterators\n",
            "Built\n"
          ]
        }
      ]
    },
    {
      "cell_type": "code",
      "source": [
        "#@title Model definition { form-width: \"31%\" }\n",
        "import  tensorflow as tf\n",
        "from sklearn.metrics import f1_score\n",
        "from sklearn.metrics.pairwise import cosine_similarity\n",
        "from tensorflow.keras.models import Model\n",
        "from tensorflow.keras.layers import (Input, LayerNormalization, LSTM, Dense, \n",
        "                                     Bidirectional, Embedding, \n",
        "                                     concatenate, Add, Average, Flatten, Dropout)\n",
        "\n",
        "################################################################################\n",
        "class BaseModel(tf.keras.Model):\n",
        "    def __init__(self, batch_size, sequence_len, embedding_matrix,\n",
        "                 sentence_embedder, embedding_merger, train_word_emb = True,**kwargs):\n",
        "      \n",
        "        super(BaseModel, self).__init__(**kwargs)\n",
        "\n",
        "        word_voc = embedding_matrix.shape[0]\n",
        "        embedding_dim = embedding_matrix.shape[1]\n",
        "\n",
        "        self.trainable = train_word_emb\n",
        "\n",
        "        self.input_layer_claim = Input(batch_input_shape=(batch_size, sequence_len),\n",
        "                                       name=\"claim_input\")\n",
        "        self.input_layer_evidence = Input(batch_input_shape=(batch_size, sequence_len),\n",
        "                                          name=\"evidence_input\")\n",
        "        \n",
        "        self.word_embedding = Embedding(word_voc, embedding_dim,\n",
        "                            weights=[embedding_matrix], trainable=self.trainable,\n",
        "                            mask_zero=True, name=\"word_embedding\")\n",
        "        \n",
        "        self.sentence_embedder = sentence_embedder\n",
        "        self.embedding_merger = embedding_merger\n",
        "\n",
        "        self.classifier = Dense(2, activation=\"softmax\", name=\"classifier\")\n",
        "\n",
        "\n",
        "    def call(self, c, e):\n",
        "        claim_word_embedding = self.word_embedding(c)\n",
        "        evidence_word_embedding = self.word_embedding(e)\n",
        "        \n",
        "        claim_sentence_embedding = self.sentence_embedder(claim_word_embedding)\n",
        "        evidence_sentence_embedding = self.sentence_embedder(evidence_word_embedding)\n",
        "        merged_embedding = self.embedding_merger(claim_sentence_embedding,\n",
        "                                            evidence_sentence_embedding)\n",
        "                                            \n",
        "        output = self.classifier(merged_embedding)\n",
        "        return output\n",
        "\n",
        "    def loss_function(self, y, predictions):\n",
        "        sce = tf.keras.losses.sparse_categorical_crossentropy(\n",
        "                y, predictions, from_logits=False)\n",
        "        return tf.reduce_mean(sce)\n",
        "\n",
        "    def update_metrics(self, y, predictions, loss_obj, acc_obj, f1_obj):\n",
        "        # loss\n",
        "        current_loss = self.loss_function(y, predictions)\n",
        "        loss_obj.update_state(current_loss)\n",
        "\n",
        "        pred_np = np.argmax(predictions, axis=-1)\n",
        "        # accuracy\n",
        "        acc_obj.update_state(y, pred_np)\n",
        "        # f1 macro\n",
        "        y_np = y.numpy().astype(np.int32)\n",
        "        f1 = f1_score(y_np.flatten(), pred_np.flatten(), \n",
        "                        average='macro', zero_division=0, \n",
        "                        labels=[0,1])\n",
        "        f1_obj.update_state(f1)\n",
        "\n",
        "    # consistently copies embedding weights from one model to another\n",
        "    def copy_weights_from(self, other):\n",
        "        for layer, other_layer in zip(self.layers, other.layers):\n",
        "            if layer.name == \"word_embedding\":\n",
        "                from_weights = other_layer.get_weights()[0];\n",
        "                new_weights = layer.get_weights()[0][from_weights.shape[0]:]\n",
        "                layer.set_weights([np.vstack((from_weights, new_weights))])\n",
        "            else:\n",
        "                layer.set_weights(other_layer.get_weights())\n",
        "\n",
        "    def summary(self):\n",
        "        model = Model(inputs=[self.input_layer_claim, self.input_layer_evidence],\n",
        "                      outputs=self.call(self.input_layer_claim, self.input_layer_evidence))\n",
        "        model.summary()\n",
        "\n",
        "################################################################################\n",
        "########################  CUSTOM SENTENCE EMBEDDERS  ###########################\n",
        "################################################################################\n",
        "\n",
        "class BOVEmbeddeing(tf.keras.layers.Layer):\n",
        "    def __init__(self, **kwargs):\n",
        "        super(BOVEmbeddeing, self).__init__(**kwargs)\n",
        "\n",
        "    def call(self, x): \n",
        "        return tf.reduce_mean(x, axis=1)\n",
        "\n",
        "class MLPEmbedding(tf.keras.layers.Layer):\n",
        "    def __init__(self, embedding_dim, **kwargs):\n",
        "        super(MLPEmbedding, self).__init__(**kwargs)\n",
        "        self.flatten = Flatten()\n",
        "        self.d1 = Dense(embedding_dim)\n",
        "\n",
        "    def call(self, x):\n",
        "        flattened = self.flatten(x)\n",
        "        return self.d1(flattened)\n",
        "\n",
        "class RNNEmbedding(tf.keras.layers.Layer):\n",
        "    def __init__(self, latent_dim, average_all_outputs, **kwargs):\n",
        "        super(RNNEmbedding, self).__init__(**kwargs)\n",
        "        self.average_all_outputs = average_all_outputs\n",
        "        self.lstm = Bidirectional(LSTM(\n",
        "            latent_dim, return_state=False, return_sequences=self.average_all_outputs))\n",
        "        \n",
        "    def call(self, x): \n",
        "        if self.average_all_outputs:\n",
        "            return tf.reduce_mean(self.lstm(x), axis=1)\n",
        "        else:\n",
        "            return self.lstm(x)\n",
        "\n",
        "################################################################################\n",
        "#########################  CUSTOM EMBEDDING MERGERS  ###########################\n",
        "################################################################################\n",
        "\n",
        "class Merge(tf.keras.layers.Layer):\n",
        "    def __init__(self, cosine, **kwargs):\n",
        "        super(Merge, self).__init__(**kwargs)\n",
        "        self.cosine = cosine\n",
        "        self.dot = tf.keras.layers.Dot((1, 1))\n",
        "\n",
        "    def compute(self, a, b):\n",
        "        pass\n",
        "\n",
        "    def call(self, a, b):\n",
        "        if not self.cosine:\n",
        "            return self.compute(a, b)\n",
        "        cs = self.dot([a, b])/(tf.norm(a)*tf.norm(b)+1e-9)\n",
        "        computed = self.compute(a, b)\n",
        "        return concatenate([computed, cs])\n",
        "\n",
        "class ConcatMerge(Merge):\n",
        "    def __init__(self, cosine, **kwargs):\n",
        "        super(ConcatMerge, self).__init__(cosine, **kwargs)\n",
        "\n",
        "    def compute(self, a, b): \n",
        "        return concatenate([a, b])\n",
        "\n",
        "class SumMerge(Merge):\n",
        "    def __init__(self, cosine, **kwargs):\n",
        "        super(SumMerge, self).__init__(cosine, **kwargs)\n",
        "        self.add_layer = Add()\n",
        "\n",
        "    def compute(self, a, b): \n",
        "        return self.add_layer([a, b])\n",
        "\n",
        "class AvgMerge(Merge):\n",
        "    def __init__(self, cosine, **kwargs):\n",
        "        super(AvgMerge, self).__init__(cosine, **kwargs)\n",
        "        self.avg_layer = Average()\n",
        "\n",
        "    def compute(self, a, b):\n",
        "        return self.avg_layer([a, b])\n"
      ],
      "metadata": {
        "id": "SyoObpV2DbI1"
      },
      "execution_count": 39,
      "outputs": []
    },
    {
      "cell_type": "code",
      "source": [
        "ENABLE_WANDB = True        #@param {type:\"boolean\"}\n",
        "if ENABLE_WANDB:\n",
        "    !pip install wandb\n",
        "    !wandb login wandb_api_token\n",
        "    import wandb"
      ],
      "metadata": {
        "id": "nBlpzEYxHzBH"
      },
      "execution_count": 45,
      "outputs": []
    },
    {
      "cell_type": "code",
      "source": [
        "#@title { form-width: \"31%\" }\n",
        "\n",
        "RNN_latent_dim = 64#@param {type:\"integer\"}\n",
        "\n",
        "RNNlast = RNNEmbedding(latent_dim=RNN_latent_dim, average_all_outputs=False, name=\"RNNEmbedding-last\")\n",
        "RNNavg = RNNEmbedding(latent_dim=RNN_latent_dim, average_all_outputs=True, name=\"RNNEmbedding-avg\")\n",
        "MLP = MLPEmbedding(embedding_dim=50, name=\"MLPEmbedding\")\n",
        "BOV = BOVEmbeddeing(name=\"BOVEmbedding\")\n",
        "\n",
        "concat_merge = ConcatMerge(cosine=False, name=\"ConcatMerge\")\n",
        "concat_merge_cosine = ConcatMerge(cosine=True, name=\"ConcatMerge-cos\")\n",
        "\n",
        "sum_merge = SumMerge(cosine=False, name=\"SumMerge\")\n",
        "sum_merge_cosine = SumMerge(cosine=True, name=\"SumMerge-cos\")\n",
        "\n",
        "avg_merge = AvgMerge(cosine=False, name=\"AvgMerge\")\n",
        "avg_merge_cosine = AvgMerge(cosine=True, name=\"AvgMerge-cos\")\n",
        "\n",
        "################################################################################\n",
        "\n",
        "sentence_embedder = RNNlast #@param ['RNNlast', 'RNNavg', 'MLP', 'BOV'] {type:\"raw\"}\n",
        "embedding_merger = concat_merge #@param ['concat_merge', 'concat_merge_cosine','sum_merge','sum_merge_cosine','avg_merge','avg_merge_cosine'] {type:\"raw\"}\n",
        "\n",
        "max_epochs = 100\n",
        "learning_rate = 5e-4 #@param {type:\"number\"}\n",
        "\n",
        "\n",
        "@tf.function\n",
        "def train_step_graph_fn(optimizer, model, c, e, y):\n",
        "    with tf.GradientTape() as tape:\n",
        "        predictions = model(c, e)\n",
        "        loss = model.loss_function(y, predictions)\n",
        "    gradients = tape.gradient(loss, model.trainable_variables)\n",
        "    optimizer.apply_gradients(zip(gradients, model.trainable_variables))\n",
        "    return predictions\n",
        "\n",
        "@tf.function\n",
        "def val_step_graph_fn(model, c, e):\n",
        "    predictions = model(c,e)\n",
        "    return predictions\n",
        "\n",
        "# train model\n",
        "model_name = f\"{sentence_embedder.name}__{embedding_merger.name}\"\n",
        "model = BaseModel(batch_size, sequence_len, embedding_matrix_v2, \n",
        "                  sentence_embedder, embedding_merger, name=model_name)\n",
        "model.summary()\n",
        "# val model\n",
        "val_model = BaseModel(batch_size, sequence_len, embedding_matrix_v3,\n",
        "                        sentence_embedder, embedding_merger, name=model_name)\n",
        "# best model\n",
        "best_model = BaseModel(batch_size, sequence_len, embedding_matrix_v4,\n",
        "                        sentence_embedder, embedding_merger, name=model_name)\n",
        "# build the graph model\n",
        "train_data.shuffle()\n",
        "c, e, _ = train_data.__next__()\n",
        "val_model(c, e)\n",
        "best_model(c, e)\n",
        "\n",
        "if ENABLE_WANDB:\n",
        "    wandb.config.batch_size = batch_size\n",
        "    wandb.config.latent_dim = latent_dim\n",
        "    wandb.config.learning_rate = learning_rate \n",
        "    wandb.config.emdedding_dim = embedding_dimension\n",
        "    wandb.config.model = model.name\n",
        "    wandb_experiment_name = f\"{model.name}_b{batch_size}_lr{learning_rate:.0e}\"\n",
        "    wandb.init(project=\"NLP04\", name=wandb_experiment_name)\n",
        "\n",
        "# metrics\n",
        "train_loss_obj = tf.keras.metrics.Mean(name='train_loss')\n",
        "train_f1_obj = tf.keras.metrics.Mean(name='train_f1')\n",
        "train_acc_obj = tf.keras.metrics.Accuracy(name='train_accuracy')\n",
        "val_loss_obj = tf.keras.metrics.Mean(name='val_loss')\n",
        "val_f1_obj = tf.keras.metrics.Mean(name='val_f1')\n",
        "val_acc_obj = tf.keras.metrics.Accuracy(name='val_accuracy')\n",
        "\n",
        "# optimizer\n",
        "optimizer = tf.keras.optimizers.Adam(learning_rate=learning_rate)\n",
        "\n",
        "# train loop\n",
        "max_val_acc = -1\n",
        "not_improving = 0\n",
        "max_iter_not_improv = 3\n",
        "\n",
        "for epoch in range(max_epochs):\n",
        "    train_loss_obj.reset_states()\n",
        "    train_f1_obj.reset_states()\n",
        "    train_acc_obj.reset_states()\n",
        "\n",
        "    train_data.shuffle()\n",
        "    for c, e, y in train_data:\n",
        "        predictions = train_step_graph_fn(optimizer, model, c, e, y)\n",
        "        model.update_metrics(y, predictions, train_loss_obj, train_acc_obj, train_f1_obj)\n",
        "\n",
        "    print(\"{}.  \\t[TRAINING]\\t  loss: {}  \\t accuracy: {} \\t f1-macro: {}\".format(epoch, \n",
        "                                                      train_loss_obj.result(),\n",
        "                                                      train_acc_obj.result(),\n",
        "                                                      train_f1_obj.result()))\n",
        "    if ENABLE_WANDB:\n",
        "        wandb.log({\n",
        "            'train_loss': train_loss_obj.result(),\n",
        "            'train_accuracy': train_acc_obj.result(),\n",
        "            'train_f1': train_f1_obj.result()\n",
        "        }, step=epoch)\n",
        "\n",
        "    # validation\n",
        "    if True:# epoch%5 == 4:\n",
        "        val_loss_obj.reset_states()\n",
        "        val_acc_obj.reset_states()\n",
        "        val_f1_obj.reset_states()\n",
        "\n",
        "        val_model.copy_weights_from(model)\n",
        "        val_data.shuffle()\n",
        "        for c, e, y in val_data:\n",
        "            predictions = val_step_graph_fn(val_model, c, e)\n",
        "            val_model.update_metrics(y, predictions, val_loss_obj, val_acc_obj, val_f1_obj)\n",
        "\n",
        "        print(\"     \\t[VALIDATION]\\t   loss: {}  \\t  accuracy: {} \\t  f1-macro: {}\".format(\n",
        "                                                      val_loss_obj.result(),\n",
        "                                                      val_acc_obj.result(),\n",
        "                                                      val_f1_obj.result()))\n",
        "        if ENABLE_WANDB:\n",
        "            wandb.log({\n",
        "                'val_loss': val_loss_obj.result(),\n",
        "                'val_accuracy': val_acc_obj.result(),\n",
        "                'val_f1': val_f1_obj.result()\n",
        "            }, step=epoch)\n",
        "\n",
        "        # early stopping\n",
        "        if val_acc_obj.result() > max_val_acc:\n",
        "            best_model.copy_weights_from(val_model)\n",
        "            max_val_acc = val_acc_obj.result()\n",
        "            not_improving = 0\n",
        "        else:\n",
        "            not_improving += 1\n",
        "            print(\"VALIDATION ACCURACY NOT IMPROVING, STRIKE:\", not_improving,\"!!\")\n",
        "            if not_improving >= max_iter_not_improv:\n",
        "                print(\"Validation accuracy not improving for\", max_iter_not_improv,\n",
        "                      \"successive computations.\")\n",
        "                print(\"Best model accuracy:\", max_val_acc.numpy())\n",
        "                break"
      ],
      "metadata": {
        "colab": {
          "base_uri": "https://localhost:8080/",
          "height": 833
        },
        "id": "aLAaJN-rEaXJ",
        "outputId": "05bcd9cc-751b-4cf4-c355-eee0558b0ab3"
      },
      "execution_count": 52,
      "outputs": [
        {
          "output_type": "stream",
          "name": "stdout",
          "text": [
            "Model: \"model_9\"\n",
            "__________________________________________________________________________________________________\n",
            " Layer (type)                   Output Shape         Param #     Connected to                     \n",
            "==================================================================================================\n",
            " claim_input (InputLayer)       [(128, 216)]         0           []                               \n",
            "                                                                                                  \n",
            " evidence_input (InputLayer)    [(128, 216)]         0           []                               \n",
            "                                                                                                  \n",
            " word_embedding (Embedding)     (128, 216, 100)      40058800    ['claim_input[0][0]',            \n",
            "                                                                  'evidence_input[0][0]']         \n",
            "                                                                                                  \n",
            " RNNEmbedding-last (RNNEmbeddin  (128, 128)          84480       ['word_embedding[0][0]',         \n",
            " g)                                                               'word_embedding[1][0]']         \n",
            "                                                                                                  \n",
            " ConcatMerge (ConcatMerge)      (128, 256)           0           ['RNNEmbedding-last[0][0]',      \n",
            "                                                                  'RNNEmbedding-last[1][0]']      \n",
            "                                                                                                  \n",
            " classifier (Dense)             (128, 2)             514         ['ConcatMerge[0][0]']            \n",
            "                                                                                                  \n",
            "==================================================================================================\n",
            "Total params: 40,143,794\n",
            "Trainable params: 40,143,794\n",
            "Non-trainable params: 0\n",
            "__________________________________________________________________________________________________\n"
          ]
        },
        {
          "output_type": "error",
          "ename": "KeyboardInterrupt",
          "evalue": "ignored",
          "traceback": [
            "\u001b[0;31m---------------------------------------------------------------------------\u001b[0m",
            "\u001b[0;31mKeyboardInterrupt\u001b[0m                         Traceback (most recent call last)",
            "\u001b[0;32m<ipython-input-52-9cdaa9c0158c>\u001b[0m in \u001b[0;36m<module>\u001b[0;34m()\u001b[0m\n\u001b[1;32m     89\u001b[0m     \u001b[0mtrain_data\u001b[0m\u001b[0;34m.\u001b[0m\u001b[0mshuffle\u001b[0m\u001b[0;34m(\u001b[0m\u001b[0;34m)\u001b[0m\u001b[0;34m\u001b[0m\u001b[0;34m\u001b[0m\u001b[0m\n\u001b[1;32m     90\u001b[0m     \u001b[0;32mfor\u001b[0m \u001b[0mc\u001b[0m\u001b[0;34m,\u001b[0m \u001b[0me\u001b[0m\u001b[0;34m,\u001b[0m \u001b[0my\u001b[0m \u001b[0;32min\u001b[0m \u001b[0mtrain_data\u001b[0m\u001b[0;34m:\u001b[0m\u001b[0;34m\u001b[0m\u001b[0;34m\u001b[0m\u001b[0m\n\u001b[0;32m---> 91\u001b[0;31m         \u001b[0mpredictions\u001b[0m \u001b[0;34m=\u001b[0m \u001b[0mtrain_step_graph_fn\u001b[0m\u001b[0;34m(\u001b[0m\u001b[0moptimizer\u001b[0m\u001b[0;34m,\u001b[0m \u001b[0mmodel\u001b[0m\u001b[0;34m,\u001b[0m \u001b[0mc\u001b[0m\u001b[0;34m,\u001b[0m \u001b[0me\u001b[0m\u001b[0;34m,\u001b[0m \u001b[0my\u001b[0m\u001b[0;34m)\u001b[0m\u001b[0;34m\u001b[0m\u001b[0;34m\u001b[0m\u001b[0m\n\u001b[0m\u001b[1;32m     92\u001b[0m         \u001b[0mmodel\u001b[0m\u001b[0;34m.\u001b[0m\u001b[0mupdate_metrics\u001b[0m\u001b[0;34m(\u001b[0m\u001b[0my\u001b[0m\u001b[0;34m,\u001b[0m \u001b[0mpredictions\u001b[0m\u001b[0;34m,\u001b[0m \u001b[0mtrain_loss_obj\u001b[0m\u001b[0;34m,\u001b[0m \u001b[0mtrain_acc_obj\u001b[0m\u001b[0;34m,\u001b[0m \u001b[0mtrain_f1_obj\u001b[0m\u001b[0;34m)\u001b[0m\u001b[0;34m\u001b[0m\u001b[0;34m\u001b[0m\u001b[0m\n\u001b[1;32m     93\u001b[0m \u001b[0;34m\u001b[0m\u001b[0m\n",
            "\u001b[0;32m/usr/local/lib/python3.7/dist-packages/tensorflow/python/util/traceback_utils.py\u001b[0m in \u001b[0;36merror_handler\u001b[0;34m(*args, **kwargs)\u001b[0m\n\u001b[1;32m    148\u001b[0m     \u001b[0mfiltered_tb\u001b[0m \u001b[0;34m=\u001b[0m \u001b[0;32mNone\u001b[0m\u001b[0;34m\u001b[0m\u001b[0;34m\u001b[0m\u001b[0m\n\u001b[1;32m    149\u001b[0m     \u001b[0;32mtry\u001b[0m\u001b[0;34m:\u001b[0m\u001b[0;34m\u001b[0m\u001b[0;34m\u001b[0m\u001b[0m\n\u001b[0;32m--> 150\u001b[0;31m       \u001b[0;32mreturn\u001b[0m \u001b[0mfn\u001b[0m\u001b[0;34m(\u001b[0m\u001b[0;34m*\u001b[0m\u001b[0margs\u001b[0m\u001b[0;34m,\u001b[0m \u001b[0;34m**\u001b[0m\u001b[0mkwargs\u001b[0m\u001b[0;34m)\u001b[0m\u001b[0;34m\u001b[0m\u001b[0;34m\u001b[0m\u001b[0m\n\u001b[0m\u001b[1;32m    151\u001b[0m     \u001b[0;32mexcept\u001b[0m \u001b[0mException\u001b[0m \u001b[0;32mas\u001b[0m \u001b[0me\u001b[0m\u001b[0;34m:\u001b[0m\u001b[0;34m\u001b[0m\u001b[0;34m\u001b[0m\u001b[0m\n\u001b[1;32m    152\u001b[0m       \u001b[0mfiltered_tb\u001b[0m \u001b[0;34m=\u001b[0m \u001b[0m_process_traceback_frames\u001b[0m\u001b[0;34m(\u001b[0m\u001b[0me\u001b[0m\u001b[0;34m.\u001b[0m\u001b[0m__traceback__\u001b[0m\u001b[0;34m)\u001b[0m\u001b[0;34m\u001b[0m\u001b[0;34m\u001b[0m\u001b[0m\n",
            "\u001b[0;32m/usr/local/lib/python3.7/dist-packages/tensorflow/python/eager/def_function.py\u001b[0m in \u001b[0;36m__call__\u001b[0;34m(self, *args, **kwds)\u001b[0m\n\u001b[1;32m    908\u001b[0m \u001b[0;34m\u001b[0m\u001b[0m\n\u001b[1;32m    909\u001b[0m       \u001b[0;32mwith\u001b[0m \u001b[0mOptionalXlaContext\u001b[0m\u001b[0;34m(\u001b[0m\u001b[0mself\u001b[0m\u001b[0;34m.\u001b[0m\u001b[0m_jit_compile\u001b[0m\u001b[0;34m)\u001b[0m\u001b[0;34m:\u001b[0m\u001b[0;34m\u001b[0m\u001b[0;34m\u001b[0m\u001b[0m\n\u001b[0;32m--> 910\u001b[0;31m         \u001b[0mresult\u001b[0m \u001b[0;34m=\u001b[0m \u001b[0mself\u001b[0m\u001b[0;34m.\u001b[0m\u001b[0m_call\u001b[0m\u001b[0;34m(\u001b[0m\u001b[0;34m*\u001b[0m\u001b[0margs\u001b[0m\u001b[0;34m,\u001b[0m \u001b[0;34m**\u001b[0m\u001b[0mkwds\u001b[0m\u001b[0;34m)\u001b[0m\u001b[0;34m\u001b[0m\u001b[0;34m\u001b[0m\u001b[0m\n\u001b[0m\u001b[1;32m    911\u001b[0m \u001b[0;34m\u001b[0m\u001b[0m\n\u001b[1;32m    912\u001b[0m       \u001b[0mnew_tracing_count\u001b[0m \u001b[0;34m=\u001b[0m \u001b[0mself\u001b[0m\u001b[0;34m.\u001b[0m\u001b[0mexperimental_get_tracing_count\u001b[0m\u001b[0;34m(\u001b[0m\u001b[0;34m)\u001b[0m\u001b[0;34m\u001b[0m\u001b[0;34m\u001b[0m\u001b[0m\n",
            "\u001b[0;32m/usr/local/lib/python3.7/dist-packages/tensorflow/python/eager/def_function.py\u001b[0m in \u001b[0;36m_call\u001b[0;34m(self, *args, **kwds)\u001b[0m\n\u001b[1;32m    940\u001b[0m       \u001b[0;31m# In this case we have created variables on the first call, so we run the\u001b[0m\u001b[0;34m\u001b[0m\u001b[0;34m\u001b[0m\u001b[0;34m\u001b[0m\u001b[0m\n\u001b[1;32m    941\u001b[0m       \u001b[0;31m# defunned version which is guaranteed to never create variables.\u001b[0m\u001b[0;34m\u001b[0m\u001b[0;34m\u001b[0m\u001b[0;34m\u001b[0m\u001b[0m\n\u001b[0;32m--> 942\u001b[0;31m       \u001b[0;32mreturn\u001b[0m \u001b[0mself\u001b[0m\u001b[0;34m.\u001b[0m\u001b[0m_stateless_fn\u001b[0m\u001b[0;34m(\u001b[0m\u001b[0;34m*\u001b[0m\u001b[0margs\u001b[0m\u001b[0;34m,\u001b[0m \u001b[0;34m**\u001b[0m\u001b[0mkwds\u001b[0m\u001b[0;34m)\u001b[0m  \u001b[0;31m# pylint: disable=not-callable\u001b[0m\u001b[0;34m\u001b[0m\u001b[0;34m\u001b[0m\u001b[0m\n\u001b[0m\u001b[1;32m    943\u001b[0m     \u001b[0;32melif\u001b[0m \u001b[0mself\u001b[0m\u001b[0;34m.\u001b[0m\u001b[0m_stateful_fn\u001b[0m \u001b[0;32mis\u001b[0m \u001b[0;32mnot\u001b[0m \u001b[0;32mNone\u001b[0m\u001b[0;34m:\u001b[0m\u001b[0;34m\u001b[0m\u001b[0;34m\u001b[0m\u001b[0m\n\u001b[1;32m    944\u001b[0m       \u001b[0;31m# Release the lock early so that multiple threads can perform the call\u001b[0m\u001b[0;34m\u001b[0m\u001b[0;34m\u001b[0m\u001b[0;34m\u001b[0m\u001b[0m\n",
            "\u001b[0;32m/usr/local/lib/python3.7/dist-packages/tensorflow/python/eager/function.py\u001b[0m in \u001b[0;36m__call__\u001b[0;34m(self, *args, **kwargs)\u001b[0m\n\u001b[1;32m   3129\u001b[0m        filtered_flat_args) = self._maybe_define_function(args, kwargs)\n\u001b[1;32m   3130\u001b[0m     return graph_function._call_flat(\n\u001b[0;32m-> 3131\u001b[0;31m         filtered_flat_args, captured_inputs=graph_function.captured_inputs)  # pylint: disable=protected-access\n\u001b[0m\u001b[1;32m   3132\u001b[0m \u001b[0;34m\u001b[0m\u001b[0m\n\u001b[1;32m   3133\u001b[0m   \u001b[0;34m@\u001b[0m\u001b[0mproperty\u001b[0m\u001b[0;34m\u001b[0m\u001b[0;34m\u001b[0m\u001b[0m\n",
            "\u001b[0;32m/usr/local/lib/python3.7/dist-packages/tensorflow/python/eager/function.py\u001b[0m in \u001b[0;36m_call_flat\u001b[0;34m(self, args, captured_inputs, cancellation_manager)\u001b[0m\n\u001b[1;32m   1958\u001b[0m       \u001b[0;31m# No tape is watching; skip to running the function.\u001b[0m\u001b[0;34m\u001b[0m\u001b[0;34m\u001b[0m\u001b[0;34m\u001b[0m\u001b[0m\n\u001b[1;32m   1959\u001b[0m       return self._build_call_outputs(self._inference_function.call(\n\u001b[0;32m-> 1960\u001b[0;31m           ctx, args, cancellation_manager=cancellation_manager))\n\u001b[0m\u001b[1;32m   1961\u001b[0m     forward_backward = self._select_forward_and_backward_functions(\n\u001b[1;32m   1962\u001b[0m         \u001b[0margs\u001b[0m\u001b[0;34m,\u001b[0m\u001b[0;34m\u001b[0m\u001b[0;34m\u001b[0m\u001b[0m\n",
            "\u001b[0;32m/usr/local/lib/python3.7/dist-packages/tensorflow/python/eager/function.py\u001b[0m in \u001b[0;36mcall\u001b[0;34m(self, ctx, args, cancellation_manager)\u001b[0m\n\u001b[1;32m    601\u001b[0m               \u001b[0minputs\u001b[0m\u001b[0;34m=\u001b[0m\u001b[0margs\u001b[0m\u001b[0;34m,\u001b[0m\u001b[0;34m\u001b[0m\u001b[0;34m\u001b[0m\u001b[0m\n\u001b[1;32m    602\u001b[0m               \u001b[0mattrs\u001b[0m\u001b[0;34m=\u001b[0m\u001b[0mattrs\u001b[0m\u001b[0;34m,\u001b[0m\u001b[0;34m\u001b[0m\u001b[0;34m\u001b[0m\u001b[0m\n\u001b[0;32m--> 603\u001b[0;31m               ctx=ctx)\n\u001b[0m\u001b[1;32m    604\u001b[0m         \u001b[0;32melse\u001b[0m\u001b[0;34m:\u001b[0m\u001b[0;34m\u001b[0m\u001b[0;34m\u001b[0m\u001b[0m\n\u001b[1;32m    605\u001b[0m           outputs = execute.execute_with_cancellation(\n",
            "\u001b[0;32m/usr/local/lib/python3.7/dist-packages/tensorflow/python/eager/execute.py\u001b[0m in \u001b[0;36mquick_execute\u001b[0;34m(op_name, num_outputs, inputs, attrs, ctx, name)\u001b[0m\n\u001b[1;32m     57\u001b[0m     \u001b[0mctx\u001b[0m\u001b[0;34m.\u001b[0m\u001b[0mensure_initialized\u001b[0m\u001b[0;34m(\u001b[0m\u001b[0;34m)\u001b[0m\u001b[0;34m\u001b[0m\u001b[0;34m\u001b[0m\u001b[0m\n\u001b[1;32m     58\u001b[0m     tensors = pywrap_tfe.TFE_Py_Execute(ctx._handle, device_name, op_name,\n\u001b[0;32m---> 59\u001b[0;31m                                         inputs, attrs, num_outputs)\n\u001b[0m\u001b[1;32m     60\u001b[0m   \u001b[0;32mexcept\u001b[0m \u001b[0mcore\u001b[0m\u001b[0;34m.\u001b[0m\u001b[0m_NotOkStatusException\u001b[0m \u001b[0;32mas\u001b[0m \u001b[0me\u001b[0m\u001b[0;34m:\u001b[0m\u001b[0;34m\u001b[0m\u001b[0;34m\u001b[0m\u001b[0m\n\u001b[1;32m     61\u001b[0m     \u001b[0;32mif\u001b[0m \u001b[0mname\u001b[0m \u001b[0;32mis\u001b[0m \u001b[0;32mnot\u001b[0m \u001b[0;32mNone\u001b[0m\u001b[0;34m:\u001b[0m\u001b[0;34m\u001b[0m\u001b[0;34m\u001b[0m\u001b[0m\n",
            "\u001b[0;31mKeyboardInterrupt\u001b[0m: "
          ]
        }
      ]
    },
    {
      "cell_type": "code",
      "source": [
        "test_loss_obj = tf.keras.metrics.Mean(name='test_loss')\n",
        "test_f1_obj = tf.keras.metrics.Mean(name='test_f1')\n",
        "test_acc_obj = tf.keras.metrics.Accuracy(name='test_accuracy')\n",
        "\n",
        "test_data = DataIterator(df_test, sequence_len, batch_size)\n",
        "\n",
        "test_data.shuffle()\n",
        "for c, e, y in test_data:\n",
        "    predictions = val_step_graph_fn(best_model, c, e)\n",
        "    best_model.update_metrics(y, predictions, test_loss_obj, test_acc_obj, test_f1_obj)\n",
        "\n",
        "test_log = \"\\nTEST loss: {}  \\t accuracy: {} \\t f1-macro: {}\\n\".format(\n",
        "                                                test_loss_obj.result(),\n",
        "                                                test_acc_obj.result(),\n",
        "                                                test_f1_obj.result())\n",
        "if ENABLE_WANDB:\n",
        "    wandb.log({\"Test\": wandb.Html(\n",
        "        \"<pre>\"+test_log+\"<pre>\", inject=False)})\n",
        "print(test_log)"
      ],
      "metadata": {
        "colab": {
          "base_uri": "https://localhost:8080/"
        },
        "id": "9N7mNJZzEgMh",
        "outputId": "21cbfc4b-b58d-4ce8-8e78-f4cd853f942d"
      },
      "execution_count": 50,
      "outputs": [
        {
          "output_type": "stream",
          "name": "stdout",
          "text": [
            "\n",
            "TEST loss: 0.7049717307090759  \t accuracy: 0.4921407699584961 \t f1-macro: 0.3780733644962311\n",
            "\n"
          ]
        }
      ]
    }
  ],
  "metadata": {
    "colab": {
      "collapsed_sections": [],
      "name": "Assignment 2.ipynb",
      "provenance": []
    },
    "kernelspec": {
      "display_name": "Python 3",
      "name": "python3"
    },
    "language_info": {
      "codemirror_mode": {
        "name": "ipython",
        "version": 3
      },
      "file_extension": ".py",
      "mimetype": "text/x-python",
      "name": "python",
      "nbconvert_exporter": "python",
      "pygments_lexer": "ipython3",
      "version": "3.8.0"
    }
  },
  "nbformat": 4,
  "nbformat_minor": 0
}