{
 "cells": [
  {
   "attachments": {},
   "cell_type": "markdown",
   "metadata": {},
   "source": [
    "# Tweet Extraction via Twitter Dev API"
   ]
  },
  {
   "cell_type": "code",
   "execution_count": 1,
   "metadata": {},
   "outputs": [
    {
     "name": "stdout",
     "output_type": "stream",
     "text": [
      "Defaulting to user installation because normal site-packages is not writeable\n",
      "Requirement already satisfied: tweepy in c:\\users\\sande\\appdata\\roaming\\python\\python39\\site-packages (4.9.0)\n",
      "Requirement already satisfied: requests<3,>=2.27.0 in c:\\users\\sande\\appdata\\roaming\\python\\python39\\site-packages (from tweepy) (2.27.1)\n",
      "Requirement already satisfied: requests-oauthlib<2,>=1.2.0 in c:\\users\\sande\\appdata\\roaming\\python\\python39\\site-packages (from tweepy) (1.3.1)\n",
      "Requirement already satisfied: oauthlib<4,>=3.2.0 in c:\\users\\sande\\appdata\\roaming\\python\\python39\\site-packages (from tweepy) (3.2.0)\n",
      "Requirement already satisfied: certifi>=2017.4.17 in c:\\programdata\\anaconda3\\lib\\site-packages (from requests<3,>=2.27.0->tweepy) (2022.6.15)\n",
      "Requirement already satisfied: urllib3<1.27,>=1.21.1 in c:\\programdata\\anaconda3\\lib\\site-packages (from requests<3,>=2.27.0->tweepy) (1.26.9)\n",
      "Requirement already satisfied: idna<4,>=2.5 in c:\\programdata\\anaconda3\\lib\\site-packages (from requests<3,>=2.27.0->tweepy) (3.3)\n",
      "Requirement already satisfied: charset-normalizer~=2.0.0 in c:\\programdata\\anaconda3\\lib\\site-packages (from requests<3,>=2.27.0->tweepy) (2.0.12)\n"
     ]
    }
   ],
   "source": [
    "!pip install tweepy"
   ]
  },
  {
   "cell_type": "code",
   "execution_count": 2,
   "metadata": {},
   "outputs": [
    {
     "name": "stdout",
     "output_type": "stream",
     "text": [
      "Defaulting to user installation because normal site-packages is not writeable\n",
      "Requirement already satisfied: configparser in c:\\users\\sande\\appdata\\roaming\\python\\python39\\site-packages (5.2.0)\n"
     ]
    }
   ],
   "source": [
    "!pip install configparser"
   ]
  },
  {
   "cell_type": "code",
   "execution_count": 3,
   "metadata": {},
   "outputs": [],
   "source": [
    "import tweepy\n",
    "import configparser\n",
    "import pandas as pd\n"
   ]
  },
  {
   "cell_type": "markdown",
   "metadata": {},
   "source": [
    "### Authentication Handling"
   ]
  },
  {
   "cell_type": "code",
   "execution_count": 4,
   "metadata": {},
   "outputs": [],
   "source": [
    "# Authenticate using the keys and tokens\n",
    "config = configparser.RawConfigParser()\n",
    "config.read('config.ini')\n",
    "\n",
    "api_key = config['twitter']['api_key']\n",
    "api_key_secret =  config['twitter']['api_key_secret']\n",
    "access_token = config['twitter']['access_token']\n",
    "access_token_secret = config['twitter']['access_token_secret']\n",
    "\n",
    "auth = tweepy.OAuthHandler(api_key, api_key_secret)\n",
    "auth.set_access_token(access_token, access_token_secret)\n",
    "\n",
    "api = tweepy.API(auth)\n",
    "\n"
   ]
  },
  {
   "cell_type": "markdown",
   "metadata": {},
   "source": [
    "#### Python environment setup"
   ]
  },
  {
   "cell_type": "code",
   "execution_count": 6,
   "metadata": {},
   "outputs": [],
   "source": [
    "#!pip install requests\n",
    "#!pip install searchtweets"
   ]
  },
  {
   "cell_type": "code",
   "execution_count": 6,
   "metadata": {},
   "outputs": [],
   "source": [
    "import requests\n",
    "import json\n",
    "import datetime\n",
    "bearer_token = config['twitter']['bearer_code']\n",
    "start_time = datetime.datetime(2022,12,9)\n",
    "end_time = datetime.datetime.now(datetime.timezone.utc)"
   ]
  },
  {
   "cell_type": "code",
   "execution_count": 8,
   "metadata": {},
   "outputs": [
    {
     "name": "stdout",
     "output_type": "stream",
     "text": [
      "2023-01-02T19:16:00.167008+00:00 \n",
      " 2022-12-09T00:00:00\n"
     ]
    }
   ],
   "source": [
    "print(end_time.isoformat(), '\\n',start_time.isoformat())"
   ]
  },
  {
   "cell_type": "code",
   "execution_count": 9,
   "metadata": {},
   "outputs": [],
   "source": [
    "\n",
    "Client = tweepy.Client(bearer_token=bearer_token)\n",
    "\n",
    "# Code to search recent searches limit - 10 to 100\n",
    "# twts_all = Client.search_recent_tweets('S&P-500', end_time = end_time, start_time= start_time, max_results = 100)\n"
   ]
  },
  {
   "cell_type": "code",
   "execution_count": 10,
   "metadata": {},
   "outputs": [],
   "source": [
    "auth = tweepy.OAuthHandler(consumer_key = api_key, consumer_secret=api_key_secret)\n",
    "auth.set_access_token(access_token, access_token_secret)\n",
    "api = tweepy.API(auth)\n"
   ]
  },
  {
   "cell_type": "markdown",
   "metadata": {},
   "source": [
    "Searching on the twitter with query q using api."
   ]
  },
  {
   "cell_type": "code",
   "execution_count": 11,
   "metadata": {},
   "outputs": [],
   "source": [
    "search_reults = api.search_tweets(q = 'Cryptocurrency', lang = 'en', result_type = 'popular', count = 10, tweet_mode=\"extended\")"
   ]
  },
  {
   "cell_type": "code",
   "execution_count": 12,
   "metadata": {},
   "outputs": [],
   "source": [
    "json_data = [r._json for r in search_reults]\n",
    "df = pd.json_normalize(json_data)"
   ]
  },
  {
   "cell_type": "code",
   "execution_count": 13,
   "metadata": {},
   "outputs": [
    {
     "data": {
      "text/html": [
       "<div>\n",
       "<style scoped>\n",
       "    .dataframe tbody tr th:only-of-type {\n",
       "        vertical-align: middle;\n",
       "    }\n",
       "\n",
       "    .dataframe tbody tr th {\n",
       "        vertical-align: top;\n",
       "    }\n",
       "\n",
       "    .dataframe thead th {\n",
       "        text-align: right;\n",
       "    }\n",
       "</style>\n",
       "<table border=\"1\" class=\"dataframe\">\n",
       "  <thead>\n",
       "    <tr style=\"text-align: right;\">\n",
       "      <th></th>\n",
       "      <th>created_at</th>\n",
       "      <th>id</th>\n",
       "      <th>id_str</th>\n",
       "      <th>full_text</th>\n",
       "      <th>truncated</th>\n",
       "      <th>display_text_range</th>\n",
       "      <th>source</th>\n",
       "      <th>in_reply_to_status_id</th>\n",
       "      <th>in_reply_to_status_id_str</th>\n",
       "      <th>in_reply_to_user_id</th>\n",
       "      <th>...</th>\n",
       "      <th>quoted_status.coordinates</th>\n",
       "      <th>quoted_status.place</th>\n",
       "      <th>quoted_status.contributors</th>\n",
       "      <th>quoted_status.is_quote_status</th>\n",
       "      <th>quoted_status.retweet_count</th>\n",
       "      <th>quoted_status.favorite_count</th>\n",
       "      <th>quoted_status.favorited</th>\n",
       "      <th>quoted_status.retweeted</th>\n",
       "      <th>quoted_status.possibly_sensitive</th>\n",
       "      <th>quoted_status.lang</th>\n",
       "    </tr>\n",
       "  </thead>\n",
       "  <tbody>\n",
       "    <tr>\n",
       "      <th>0</th>\n",
       "      <td>Mon Jan 02 10:50:14 +0000 2023</td>\n",
       "      <td>1609864641290829824</td>\n",
       "      <td>1609864641290829824</td>\n",
       "      <td>⚡️ Introducing @ExchangeBitgert Android User I...</td>\n",
       "      <td>False</td>\n",
       "      <td>[0, 172]</td>\n",
       "      <td>&lt;a href=\"https://mobile.twitter.com\" rel=\"nofo...</td>\n",
       "      <td>None</td>\n",
       "      <td>None</td>\n",
       "      <td>None</td>\n",
       "      <td>...</td>\n",
       "      <td>NaN</td>\n",
       "      <td>NaN</td>\n",
       "      <td>NaN</td>\n",
       "      <td>NaN</td>\n",
       "      <td>NaN</td>\n",
       "      <td>NaN</td>\n",
       "      <td>NaN</td>\n",
       "      <td>NaN</td>\n",
       "      <td>NaN</td>\n",
       "      <td>NaN</td>\n",
       "    </tr>\n",
       "    <tr>\n",
       "      <th>1</th>\n",
       "      <td>Sun Jan 01 19:00:39 +0000 2023</td>\n",
       "      <td>1609625667695435776</td>\n",
       "      <td>1609625667695435776</td>\n",
       "      <td>When #CORE mainnet? 🌐 @HuobiGlobal is ready! T...</td>\n",
       "      <td>False</td>\n",
       "      <td>[0, 176]</td>\n",
       "      <td>&lt;a href=\"http://meetedgar.com\" rel=\"nofollow\"&gt;...</td>\n",
       "      <td>None</td>\n",
       "      <td>None</td>\n",
       "      <td>None</td>\n",
       "      <td>...</td>\n",
       "      <td>NaN</td>\n",
       "      <td>NaN</td>\n",
       "      <td>NaN</td>\n",
       "      <td>NaN</td>\n",
       "      <td>NaN</td>\n",
       "      <td>NaN</td>\n",
       "      <td>NaN</td>\n",
       "      <td>NaN</td>\n",
       "      <td>NaN</td>\n",
       "      <td>NaN</td>\n",
       "    </tr>\n",
       "  </tbody>\n",
       "</table>\n",
       "<p>2 rows × 150 columns</p>\n",
       "</div>"
      ],
      "text/plain": [
       "                       created_at                   id               id_str  \\\n",
       "0  Mon Jan 02 10:50:14 +0000 2023  1609864641290829824  1609864641290829824   \n",
       "1  Sun Jan 01 19:00:39 +0000 2023  1609625667695435776  1609625667695435776   \n",
       "\n",
       "                                           full_text  truncated  \\\n",
       "0  ⚡️ Introducing @ExchangeBitgert Android User I...      False   \n",
       "1  When #CORE mainnet? 🌐 @HuobiGlobal is ready! T...      False   \n",
       "\n",
       "  display_text_range                                             source  \\\n",
       "0           [0, 172]  <a href=\"https://mobile.twitter.com\" rel=\"nofo...   \n",
       "1           [0, 176]  <a href=\"http://meetedgar.com\" rel=\"nofollow\">...   \n",
       "\n",
       "  in_reply_to_status_id in_reply_to_status_id_str in_reply_to_user_id  ...  \\\n",
       "0                  None                      None                None  ...   \n",
       "1                  None                      None                None  ...   \n",
       "\n",
       "  quoted_status.coordinates quoted_status.place quoted_status.contributors  \\\n",
       "0                       NaN                 NaN                        NaN   \n",
       "1                       NaN                 NaN                        NaN   \n",
       "\n",
       "  quoted_status.is_quote_status quoted_status.retweet_count  \\\n",
       "0                           NaN                         NaN   \n",
       "1                           NaN                         NaN   \n",
       "\n",
       "  quoted_status.favorite_count  quoted_status.favorited  \\\n",
       "0                          NaN                      NaN   \n",
       "1                          NaN                      NaN   \n",
       "\n",
       "   quoted_status.retweeted  quoted_status.possibly_sensitive  \\\n",
       "0                      NaN                               NaN   \n",
       "1                      NaN                               NaN   \n",
       "\n",
       "   quoted_status.lang  \n",
       "0                 NaN  \n",
       "1                 NaN  \n",
       "\n",
       "[2 rows x 150 columns]"
      ]
     },
     "execution_count": 13,
     "metadata": {},
     "output_type": "execute_result"
    }
   ],
   "source": [
    "df.head(2)"
   ]
  },
  {
   "cell_type": "code",
   "execution_count": 18,
   "metadata": {},
   "outputs": [
    {
     "name": "stdout",
     "output_type": "stream",
     "text": [
      "______________________________________________________________________________________________________________________________________________________\n",
      "⚡️ Introducing @ExchangeBitgert Android User Interface!\n",
      "\n",
      "✨Are you ready to install our cryptocurrency exchange on your android smart phone?\n",
      "\n",
      "Let us know in comments! #BRISE https://t.co/1U5RFQXou2\n",
      "______________________________________________________________________________________________________________________________________________________\n",
      "When #CORE mainnet? 🌐 @HuobiGlobal is ready! They've said they will monitor the upgrades! 👀 Are you? \n",
      "\n",
      "@Coredao_Org #BTC #CoreDAO #Core #Cryptocurrency \n",
      "https://t.co/W0vCA0G96Q\n",
      "______________________________________________________________________________________________________________________________________________________\n",
      "Get ready for the launch of the #CORE mainnet! 🚀 @HuobiGlobal is monitoring the upgrades  - are you? 🤩 \n",
      "\n",
      "#BTC #CoreDAO #CoreNetwork #Cryptocurrency \n",
      "https://t.co/W0vCA0G96Q\n",
      "______________________________________________________________________________________________________________________________________________________\n",
      "“The Democrats and political action committees that received funding from the doomed cryptocurrency exchange FTX will be required to return the money swindled from investors according to an attorney placed in charge of the firm’s finances.” \n",
      "\n",
      "How about RINOs? 🤔\n",
      "\n",
      "@DineshDSouza https://t.co/Th6AAFIfzM\n",
      "______________________________________________________________________________________________________________________________________________________\n",
      "How #CMC users are predicting the early 2023 #crypto market 👀 \n",
      "Very close results, but we're still seeing some hopes! \n",
      "\n",
      "#Cryptocurrency #cryptonews https://t.co/od96eyx3jj\n",
      "______________________________________________________________________________________________________________________________________________________\n",
      "🇬🇧UK Enforces Crypto Tax Break for Foreigners Using Local Brokers\n",
      "\n",
      "\"Starting Sunday, the United Kingdom will impose a tax exemption for overseas investors who purchase cryptocurrency through local investment managers or brokers.\"\n",
      "\n",
      "👇🧵 https://t.co/FEJCkJxbNJ\n",
      "______________________________________________________________________________________________________________________________________________________\n",
      "📰 GDCC – An In-Depth Look at a New Deflationary Project\n",
      "\n",
      "@cluster_coin is a deflationary cryptocurrency that runs on its native blockchain and employs an innovative token-burning system. #GDCC #NFT #Metaverse #DeFi #Crypto #NFTs \n",
      "\n",
      "#Sponsored\n",
      "https://t.co/mfQHEC9j8S\n",
      "______________________________________________________________________________________________________________________________________________________\n",
      "Think anon… $BONK is the only dog coin that can handle the tx throughput required of a cryptocurrency to power native #twitter payments. It’s usage is the only logical conclusion that @elonmusk will come to. Twitter wins, $BONK wins, #solana wins.\n",
      "______________________________________________________________________________________________________________________________________________________\n",
      "🔥 #SHIB vs #VOLT 🔥\n",
      "HOW MANY Xs to CATCH UP TO @BNBCHAIN  #Crypto #cryptocurrency #Shibarium #doge #dogetrend #DogeFam \n",
      "SHIB 👇 8.3X     vs     VOLT 👇789X https://t.co/ENZv1tuU0N\n",
      "______________________________________________________________________________________________________________________________________________________\n",
      "According to statistics, daily #cryptocurrency trade volumes have dropped significantly during December 2022. Last month's volume was 46% lower than November's. https://t.co/gPkRleMrye\n"
     ]
    }
   ],
   "source": [
    "for i in range(10):\n",
    "    print(\"_\"*150 )\n",
    "    print(df.iat[i,3])  "
   ]
  },
  {
   "attachments": {},
   "cell_type": "markdown",
   "metadata": {},
   "source": [
    "By this method, the dataset can be prepared maually. But this is expensive as twitter charges some amount if we cross the upper bound for the tweets. There have been recent changes in the plans as Elon stepped in. For sake of clarity, I decided to stick to older version of pre-existing data.  "
   ]
  },
  {
   "cell_type": "markdown",
   "metadata": {},
   "source": []
  }
 ],
 "metadata": {
  "interpreter": {
   "hash": "ad2bdc8ecc057115af97d19610ffacc2b4e99fae6737bb82f5d7fb13d2f2c186"
  },
  "kernelspec": {
   "display_name": "Python 3.9.7 ('base')",
   "language": "python",
   "name": "python3"
  },
  "language_info": {
   "codemirror_mode": {
    "name": "ipython",
    "version": 3
   },
   "file_extension": ".py",
   "mimetype": "text/x-python",
   "name": "python",
   "nbconvert_exporter": "python",
   "pygments_lexer": "ipython3",
   "version": "3.9.13"
  },
  "orig_nbformat": 4
 },
 "nbformat": 4,
 "nbformat_minor": 2
}
