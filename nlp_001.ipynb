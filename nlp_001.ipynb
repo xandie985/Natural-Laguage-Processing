{
  "nbformat": 4,
  "nbformat_minor": 0,
  "metadata": {
    "colab": {
      "name": "nlp_001.ipynb",
      "provenance": []
    },
    "kernelspec": {
      "name": "python3",
      "display_name": "Python 3"
    },
    "language_info": {
      "name": "python"
    }
  },
  "cells": [
    {
      "cell_type": "code",
      "execution_count": 9,
      "metadata": {
        "colab": {
          "base_uri": "https://localhost:8080/"
        },
        "id": "i7qC-d6fy4q7",
        "outputId": "2c67ffa1-2525-4a68-fcce-42ddecb7d0f4"
      },
      "outputs": [
        {
          "output_type": "stream",
          "name": "stdout",
          "text": [
            "[nltk_data] Downloading package wordnet to /root/nltk_data...\n",
            "[nltk_data]   Unzipping corpora/wordnet.zip.\n"
          ]
        }
      ],
      "source": [
        "import nltk\n",
        "nltk.download('wordnet')\n",
        "from nltk.corpus import wordnet as wn"
      ]
    },
    {
      "cell_type": "code",
      "source": [
        "terms =  { 'n':'noun', 'v':'verb', 's':'adj (s)', 'a':'adj', 'r':'adv'}\n",
        "for synset in wn.synsets(\"good\"):\n",
        "  print(\"{}: {}\".\n",
        "        format(terms[synset.pos()],\", \"\n",
        "        .join([l.name() for l in synset.lemmas()])))"
      ],
      "metadata": {
        "colab": {
          "base_uri": "https://localhost:8080/"
        },
        "id": "-jDi9HG_zIwN",
        "outputId": "0f0b32eb-26b6-4ec3-db3c-bb887c6e5377"
      },
      "execution_count": 14,
      "outputs": [
        {
          "output_type": "stream",
          "name": "stdout",
          "text": [
            "noun: good\n",
            "noun: good, goodness\n",
            "noun: good, goodness\n",
            "noun: commodity, trade_good, good\n",
            "adj: good\n",
            "adj (s): full, good\n",
            "adj: good\n",
            "adj (s): estimable, good, honorable, respectable\n",
            "adj (s): beneficial, good\n",
            "adj (s): good\n",
            "adj (s): good, just, upright\n",
            "adj (s): adept, expert, good, practiced, proficient, skillful, skilful\n",
            "adj (s): good\n",
            "adj (s): dear, good, near\n",
            "adj (s): dependable, good, safe, secure\n",
            "adj (s): good, right, ripe\n",
            "adj (s): good, well\n",
            "adj (s): effective, good, in_effect, in_force\n",
            "adj (s): good\n",
            "adj (s): good, serious\n",
            "adj (s): good, sound\n",
            "adj (s): good, salutary\n",
            "adj (s): good, honest\n",
            "adj (s): good, undecomposed, unspoiled, unspoilt\n",
            "adj (s): good\n",
            "adv: well, good\n",
            "adv: thoroughly, soundly, good\n"
          ]
        }
      ]
    },
    {
      "cell_type": "markdown",
      "source": [
        "Hypernyms of \"lion\""
      ],
      "metadata": {
        "id": "Vl8Q5IFh0jix"
      }
    },
    {
      "cell_type": "code",
      "source": [
        "lion = wn.synset(\"lion.n.01\")\n",
        "hyper = lambda s: s.hypernyms()\n",
        "list(lion.closure(hyper))"
      ],
      "metadata": {
        "colab": {
          "base_uri": "https://localhost:8080/"
        },
        "id": "2a9ZOxdXzobq",
        "outputId": "618e007e-7aac-41da-efec-a215d7ebdef6"
      },
      "execution_count": 15,
      "outputs": [
        {
          "output_type": "execute_result",
          "data": {
            "text/plain": [
              "[Synset('big_cat.n.01'),\n",
              " Synset('feline.n.01'),\n",
              " Synset('carnivore.n.01'),\n",
              " Synset('placental.n.01'),\n",
              " Synset('mammal.n.01'),\n",
              " Synset('vertebrate.n.01'),\n",
              " Synset('chordate.n.01'),\n",
              " Synset('animal.n.01'),\n",
              " Synset('organism.n.01'),\n",
              " Synset('living_thing.n.01'),\n",
              " Synset('whole.n.02'),\n",
              " Synset('object.n.01'),\n",
              " Synset('physical_entity.n.01'),\n",
              " Synset('entity.n.01')]"
            ]
          },
          "metadata": {},
          "execution_count": 15
        }
      ]
    },
    {
      "cell_type": "markdown",
      "source": [
        "Synonymns for the word \"poor\""
      ],
      "metadata": {
        "id": "hOSk8yUX1uvD"
      }
    },
    {
      "cell_type": "code",
      "source": [
        "val = []\n",
        "for synset in wn.synsets(\"poor\"):\n",
        "  for l in synset.lemmas():\n",
        "    val.append(l.name())\n",
        "print(set(val))"
      ],
      "metadata": {
        "colab": {
          "base_uri": "https://localhost:8080/"
        },
        "id": "2sop6Ht504cb",
        "outputId": "da6eb23d-6916-4973-f584-94f3e6ec9166"
      },
      "execution_count": 54,
      "outputs": [
        {
          "output_type": "stream",
          "name": "stdout",
          "text": [
            "{'pitiful', 'hapless', 'pitiable', 'inadequate', 'pathetic', 'poor_people', 'wretched', 'miserable', 'misfortunate', 'short', 'piteous', 'poor'}\n"
          ]
        }
      ]
    },
    {
      "cell_type": "markdown",
      "source": [
        "Antonyms for \"poor\""
      ],
      "metadata": {
        "id": "yBc06eQk30kF"
      }
    },
    {
      "cell_type": "code",
      "source": [
        "val = []\n",
        "for synset in wn.synsets(\"poor\"):\n",
        "  for l in synset.lemmas():\n",
        "    if l.antonyms():\n",
        "      val.append(l.antonyms()[0].name())\n",
        "print(set(val))"
      ],
      "metadata": {
        "colab": {
          "base_uri": "https://localhost:8080/"
        },
        "id": "-nzUnrIC3xdK",
        "outputId": "e64603ee-b316-4a2c-a6bc-81e91b6e8b13"
      },
      "execution_count": 50,
      "outputs": [
        {
          "output_type": "stream",
          "name": "stdout",
          "text": [
            "{'rich', 'rich_people'}\n"
          ]
        }
      ]
    },
    {
      "cell_type": "markdown",
      "source": [
        "Word similarity between two words. "
      ],
      "metadata": {
        "id": "Iz0vKSBb8cS6"
      }
    },
    {
      "cell_type": "code",
      "source": [
        "w_sword = wn.synset('sword.n.01')\n",
        "w_gun = wn.synset('gun.n.01')\n",
        "print(\"Similarity between the sword and gun is: \", w_sword.wup_similarity(w_gun)*100, '%')"
      ],
      "metadata": {
        "colab": {
          "base_uri": "https://localhost:8080/"
        },
        "id": "-hP3snNK8bZ-",
        "outputId": "ef9b0a6c-ab85-45e2-82f2-8eaa436a8ecc"
      },
      "execution_count": 73,
      "outputs": [
        {
          "output_type": "stream",
          "name": "stdout",
          "text": [
            "Similarity between the sword and gun is:  90.0 %\n"
          ]
        }
      ]
    }
  ]
}